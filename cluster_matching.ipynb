{
 "cells": [
  {
   "cell_type": "markdown",
   "id": "3af8825b-4439-4914-af15-1914073e1b50",
   "metadata": {
    "tags": []
   },
   "source": [
    "## Class functions for matching and plotting. \n",
    "\n",
    "Catalogs to match\n",
    "* Pilot study of the 100d with vl05_lgt5\n",
    "* Then 100d with the cosmology sample. \n",
    "* Then full SPT catalog with the cosmology sample. \n",
    "\n",
    "Primary features to add: \n",
    "* ~~Matching by aperture if redshift information is not avialable.~~\n",
    "* ~~Plotting the scaling relation of top matched clusters~~\n",
    "* ~~Function to find SPT clusters with multiple RM matches~~\n",
    "* ~~Redshift cut.~~\n",
    "* ~~Plotting the matching properties (delta_z, D_sep, richness) of matched candidates.~~ \n",
    "* ~~Table showing how matching changes with Delta_z and D_sep~~\n",
    "* Function/Plot to examine individual clusters. \n",
    "* Wrapper to change the name of all files to uniform name, e.g. ra, Dec to all capitalized RA, DEC. \n",
    "\n",
    "Secondary features and bug fixes to add:\n",
    "* ~~SPT name and field strings are in bytes convert to string to remove the 'b precursor.~~ Done by using the convert_bytestring_to_unicode() function for a CSV file.\n",
    "* ~~Divide by zero warning when converting into coordinates. This does not happen in my other file.~~\n",
    "* ~~VisibleDeprecationWarning: Creating an ndarray from ragged nested sequences (which is a list-or-tuple of lists-or-tuples-or ndarrays with different lengths or shapes) is deprecated. If you meant to do this, you must specify 'dtype=object' when creating the ndarray~~\n",
    "* Added the optional verbose parameter\n",
    "\n",
    "Bugs to fix:\n",
    "* ~~Change 'xi' parameter to capitalized 'XI' or 'PEAKSIG' to be consisten with other parameter input for the SPT catalog.~~ \n"
   ]
  },
  {
   "cell_type": "code",
   "execution_count": 1,
   "id": "446a3843-24f3-464c-8860-48d82818c6d9",
   "metadata": {},
   "outputs": [],
   "source": [
    "import matplotlib.pyplot as plt\n",
    "import matplotlib.ticker as ticker\n",
    "import seaborn as sns\n",
    "\n",
    "from glob import glob\n",
    "import numpy as np\n",
    "import healpy as hp\n",
    "import struct\n",
    "\n",
    "import setup\n",
    "from astropy.table import Table\n",
    "#Coordinate\n",
    "from astropy.coordinates import SkyCoord\n",
    "from astropy import units as u\n",
    "from astropy.cosmology import WMAP9 as cosmo\n",
    "from astropy.coordinates import SkyCoord\n",
    "from astropy.io import fits\n",
    "\n",
    "import pandas as pd\n",
    "from tqdm import tqdm\n",
    "import math\n",
    "\n",
    "import pickle\n",
    "from matched_clusters import matched_clusters"
   ]
  },
  {
   "cell_type": "code",
   "execution_count": 2,
   "id": "25ef7d45-c5f6-4b81-8e96-6314dbf9bffd",
   "metadata": {},
   "outputs": [],
   "source": [
    "#Plotting params\n",
    "#Plotting parameters\n",
    "import matplotlib as mpl\n",
    "from matplotlib.ticker import FormatStrFormatter\n",
    "import matplotlib.ticker as mticker\n",
    "from matplotlib.ticker import StrMethodFormatter, NullFormatter\n",
    "\n",
    "\n",
    "mpl.rcParams['xtick.direction'], mpl.rcParams['ytick.direction'] = 'in', 'in'\n",
    "mpl.rcParams['xtick.major.size'], mpl.rcParams['xtick.minor.size'] = 14, 8\n",
    "mpl.rcParams['xtick.major.width'], mpl.rcParams['xtick.minor.width'] = 1.2, 0.8\n",
    "mpl.rcParams['xtick.major.pad'], mpl.rcParams['xtick.minor.pad'] = 10, 10\n",
    "mpl.rcParams['ytick.major.size'], mpl.rcParams['ytick.minor.size'] = 14, 8\n",
    "mpl.rcParams['ytick.major.width'], mpl.rcParams['ytick.minor.width'] = 1.2, 0.8\n",
    "mpl.rcParams['xtick.labelsize'], mpl.rcParams['ytick.labelsize'] = 20, 20\n",
    "\n",
    "# Parameters used in this module\n",
    "# One dictionary to store default values\n",
    "# Another that user can view/change as necessary\n",
    "Default_Params = {'default_cmap'   : plt.cm.coolwarm,\n",
    "                  'title_fontsize' : 25,\n",
    "                  'legend_fontsize': 22,\n",
    "                  'xlabel_fontsize': 30,\n",
    "                  'ylabel_fontsize': 30,\n",
    "                  'scatter_factor' : 1.0}\n",
    "\n",
    "Params = Default_Params.copy()"
   ]
  },
  {
   "cell_type": "markdown",
   "id": "e28bd264-e6b4-4af2-ab38-c57ee78c9a53",
   "metadata": {},
   "source": [
    "## Importing Catalogs"
   ]
  },
  {
   "cell_type": "code",
   "execution_count": 3,
   "id": "74352d79-5fc6-4642-9a1c-8d15200704b2",
   "metadata": {},
   "outputs": [],
   "source": [
    "##Created a combined dataframe of SPT matched DES clusters in the DES Y3 footprint. \n",
    "datadir = setup.data_home_dir()\n",
    "bigdatadir = setup.bigdata_home_dir()"
   ]
  },
  {
   "cell_type": "markdown",
   "id": "7240547e-d1f0-436f-8761-5700bb25fc07",
   "metadata": {},
   "source": [
    "### For SPT:\n",
    "* MCMF SZ\n",
    "* ECS \n",
    "* 100dpol\n",
    "* Near future to add 500dpol catalog"
   ]
  },
  {
   "cell_type": "code",
   "execution_count": 6,
   "id": "a533338b-8945-477c-9ec8-c5bbce2f6eb9",
   "metadata": {},
   "outputs": [
    {
     "name": "stdout",
     "output_type": "stream",
     "text": [
      "Index(['SPT_ID', 'RA', 'Dec', 'xi', 'theta_core', 'redshift', 'redshift_unc',\n",
      "       'M500', 'M500_lerr', 'M500_uerr', 'imaging', 'P_blank', 'field'],\n",
      "      dtype='object')\n",
      "Number of clusters equals 89\n"
     ]
    }
   ],
   "source": [
    "#SPT\n",
    "spt_all = datadir + 'spt_catalogs/sptpol100d_catalog_huang19.fits'\n",
    "#spt_all = datadir + 'spt_catalogs/SPT_ECS_MCMFSZ_100d_Combined.fits'\n",
    "\n",
    "#DES--redMaPPer full run vl50\n",
    "\n",
    "dat = Table.read(spt_all, format='fits')\n",
    "dat.convert_bytestring_to_unicode() #Converts bytes to string for string columns e.g. SPT ID and Field name for correct syntax\n",
    "\n",
    "spt_data = dat.to_pandas()\n",
    "\n",
    "print(spt_data.columns)\n",
    "print(\"Number of clusters equals\", len(spt_data))"
   ]
  },
  {
   "cell_type": "markdown",
   "id": "eb08b37d-db42-404e-8ff1-04732c30a6a1",
   "metadata": {},
   "source": [
    "### redMaPPer\n",
    "lgt5_vl50"
   ]
  },
  {
   "cell_type": "code",
   "execution_count": 7,
   "id": "fef56133-9b77-4d63-b3f8-3a4baf261be2",
   "metadata": {},
   "outputs": [
    {
     "name": "stdout",
     "output_type": "stream",
     "text": [
      "Index(['MEM_MATCH_ID', 'RA', 'DEC', 'MODEL_MAG', 'MODEL_MAGERR', 'REFMAG',\n",
      "       'REFMAG_ERR', 'ZRED', 'ZRED_E', 'ZRED_CHISQ', 'BCG_SPEC_Z',\n",
      "       'Z_SPEC_INIT', 'Z_INIT', 'Z', 'LAMBDA_CHISQ', 'LAMBDA_CHISQ_E',\n",
      "       'LAMBDA_ZRED', 'LAMBDA_ZRED_E', 'R_LAMBDA', 'SCALEVAL', 'MASKFRAC',\n",
      "       'GEOMASKFRAC', 'C_LAMBDA', 'C_LAMBDA_ERR', 'MAG_LAMBDA_ERR', 'CHISQ',\n",
      "       'Z_LAMBDA', 'Z_LAMBDA_E', 'Z_LAMBDA_NITER', 'EBV_MEAN', 'LNLAMLIKE',\n",
      "       'LNBCGLIKE', 'LNLIKE', 'PZBINS', 'PZ', 'NCROSS', 'RMASK', 'RA_ORIG',\n",
      "       'DEC_ORIG', 'W', 'DLAMBDA_DZ', 'DLAMBDA_DZ2', 'DLAMBDAVAR_DZ',\n",
      "       'DLAMBDAVAR_DZ2', 'LAMBDA_CHISQ_C', 'LAMBDA_CHISQ_CE', 'NCENT',\n",
      "       'NCENT_GOOD', 'RA_CENT', 'DEC_CENT', 'ID_CENT', 'LAMBDA_CHISQ_CENT',\n",
      "       'ZLAMBDA_CENT', 'P_BCG', 'P_CEN', 'Q_CEN', 'P_FG', 'Q_MISS', 'P_SAT',\n",
      "       'P_C', 'BCG_ILUM', 'ILUM', 'Z_LAMBDA_RAW', 'Z_LAMBDA_E_RAW',\n",
      "       'LIM_EXPTIME', 'LIM_LIMMAG_DERED', 'LIM_LIMMAG', 'LIM_LIMMAG_HARD',\n",
      "       'MASKGAL_INDEX'],\n",
      "      dtype='object')\n",
      "Number of clusters equals 869335\n"
     ]
    }
   ],
   "source": [
    "redM_full = datadir + '/redMaPPer/y3_gold_2.2.1_wide_sofcol_run2_redmapper_v6.4.22+2_lgt5_vl50_catalog.csv'\n",
    "redM_full = pd.read_csv(redM_full)\n",
    "print(redM_full.columns)\n",
    "print(\"Number of clusters equals\", len(redM_full))"
   ]
  },
  {
   "cell_type": "code",
   "execution_count": 8,
   "id": "98a2fa3a-62dd-4975-8a92-0d490e723dfd",
   "metadata": {},
   "outputs": [
    {
     "name": "stdout",
     "output_type": "stream",
     "text": [
      "Index(['MEM_MATCH_ID', 'RA', 'DEC', 'MODEL_MAG', 'MODEL_MAGERR', 'REFMAG',\n",
      "       'REFMAG_ERR', 'ZRED', 'ZRED_E', 'ZRED_CHISQ', 'BCG_SPEC_Z',\n",
      "       'Z_SPEC_INIT', 'Z_INIT', 'Z', 'LAMBDA_CHISQ', 'LAMBDA_CHISQ_E',\n",
      "       'LAMBDA_ZRED', 'LAMBDA_ZRED_E', 'R_LAMBDA', 'SCALEVAL', 'MASKFRAC',\n",
      "       'GEOMASKFRAC', 'C_LAMBDA', 'C_LAMBDA_ERR', 'MAG_LAMBDA_ERR', 'CHISQ',\n",
      "       'Z_LAMBDA', 'Z_LAMBDA_E', 'Z_LAMBDA_NITER', 'EBV_MEAN', 'LNLAMLIKE',\n",
      "       'LNBCGLIKE', 'LNLIKE', 'PZBINS', 'PZ', 'NCROSS', 'RMASK', 'RA_ORIG',\n",
      "       'DEC_ORIG', 'W', 'DLAMBDA_DZ', 'DLAMBDA_DZ2', 'DLAMBDAVAR_DZ',\n",
      "       'DLAMBDAVAR_DZ2', 'LAMBDA_CHISQ_C', 'LAMBDA_CHISQ_CE', 'NCENT',\n",
      "       'NCENT_GOOD', 'RA_CENT', 'DEC_CENT', 'ID_CENT', 'LAMBDA_CHISQ_CENT',\n",
      "       'ZLAMBDA_CENT', 'P_BCG', 'P_CEN', 'Q_CEN', 'P_FG', 'Q_MISS', 'P_SAT',\n",
      "       'P_C', 'BCG_ILUM', 'ILUM', 'Z_LAMBDA_RAW', 'Z_LAMBDA_E_RAW',\n",
      "       'LIM_EXPTIME', 'LIM_LIMMAG_DERED', 'LIM_LIMMAG', 'LIM_LIMMAG_HARD',\n",
      "       'MASKGAL_INDEX'],\n",
      "      dtype='object')\n",
      "Number of clusters equals 21092\n"
     ]
    }
   ],
   "source": [
    "redM_cosmo = datadir + '/redMaPPer/y3_gold_2.2.1_wide_sofcol_run2_redmapper_v6.4.22+2_lgt20_vl02_catalog.csv'\n",
    "redM_cosmo = pd.read_csv(redM_cosmo)\n",
    "print(redM_cosmo.columns)\n",
    "print(\"Number of clusters equals\", len(redM_cosmo))"
   ]
  },
  {
   "cell_type": "markdown",
   "id": "aff23e54-e5c3-431e-80cc-cb8f19cd3633",
   "metadata": {},
   "source": [
    "### Renamining Column Names if needed"
   ]
  },
  {
   "cell_type": "code",
   "execution_count": 9,
   "id": "dd406c48-5bb4-4ca9-acd5-e423ace07ac4",
   "metadata": {},
   "outputs": [
    {
     "name": "stdout",
     "output_type": "stream",
     "text": [
      "Index(['SPT_ID', 'RA_SPT', 'Dec', 'xi', 'theta_core', 'redshift',\n",
      "       'redshift_unc', 'M500', 'M500_lerr', 'M500_uerr', 'imaging', 'P_blank',\n",
      "       'field'],\n",
      "      dtype='object')\n"
     ]
    },
    {
     "ename": "KeyError",
     "evalue": "'FIELD'",
     "output_type": "error",
     "traceback": [
      "\u001b[0;31m---------------------------------------------------------------------------\u001b[0m",
      "\u001b[0;31mKeyError\u001b[0m                                  Traceback (most recent call last)",
      "\u001b[0;32m~/.conda/envs/myLSST/lib/python3.7/site-packages/pandas/core/indexes/base.py\u001b[0m in \u001b[0;36mget_loc\u001b[0;34m(self, key, method, tolerance)\u001b[0m\n\u001b[1;32m   3360\u001b[0m             \u001b[0;32mtry\u001b[0m\u001b[0;34m:\u001b[0m\u001b[0;34m\u001b[0m\u001b[0;34m\u001b[0m\u001b[0m\n\u001b[0;32m-> 3361\u001b[0;31m                 \u001b[0;32mreturn\u001b[0m \u001b[0mself\u001b[0m\u001b[0;34m.\u001b[0m\u001b[0m_engine\u001b[0m\u001b[0;34m.\u001b[0m\u001b[0mget_loc\u001b[0m\u001b[0;34m(\u001b[0m\u001b[0mcasted_key\u001b[0m\u001b[0;34m)\u001b[0m\u001b[0;34m\u001b[0m\u001b[0;34m\u001b[0m\u001b[0m\n\u001b[0m\u001b[1;32m   3362\u001b[0m             \u001b[0;32mexcept\u001b[0m \u001b[0mKeyError\u001b[0m \u001b[0;32mas\u001b[0m \u001b[0merr\u001b[0m\u001b[0;34m:\u001b[0m\u001b[0;34m\u001b[0m\u001b[0;34m\u001b[0m\u001b[0m\n",
      "\u001b[0;32m~/.conda/envs/myLSST/lib/python3.7/site-packages/pandas/_libs/index.pyx\u001b[0m in \u001b[0;36mpandas._libs.index.IndexEngine.get_loc\u001b[0;34m()\u001b[0m\n",
      "\u001b[0;32m~/.conda/envs/myLSST/lib/python3.7/site-packages/pandas/_libs/index.pyx\u001b[0m in \u001b[0;36mpandas._libs.index.IndexEngine.get_loc\u001b[0;34m()\u001b[0m\n",
      "\u001b[0;32mpandas/_libs/hashtable_class_helper.pxi\u001b[0m in \u001b[0;36mpandas._libs.hashtable.PyObjectHashTable.get_item\u001b[0;34m()\u001b[0m\n",
      "\u001b[0;32mpandas/_libs/hashtable_class_helper.pxi\u001b[0m in \u001b[0;36mpandas._libs.hashtable.PyObjectHashTable.get_item\u001b[0;34m()\u001b[0m\n",
      "\u001b[0;31mKeyError\u001b[0m: 'FIELD'",
      "\nThe above exception was the direct cause of the following exception:\n",
      "\u001b[0;31mKeyError\u001b[0m                                  Traceback (most recent call last)",
      "\u001b[0;32m/tmp/ipykernel_7774/3101820802.py\u001b[0m in \u001b[0;36m<module>\u001b[0;34m\u001b[0m\n\u001b[1;32m      4\u001b[0m \u001b[0;34m\u001b[0m\u001b[0m\n\u001b[1;32m      5\u001b[0m \u001b[0;31m#Remove space in FIELD names\u001b[0m\u001b[0;34m\u001b[0m\u001b[0;34m\u001b[0m\u001b[0;34m\u001b[0m\u001b[0m\n\u001b[0;32m----> 6\u001b[0;31m \u001b[0mspt_data\u001b[0m\u001b[0;34m[\u001b[0m\u001b[0;34m'FIELD'\u001b[0m\u001b[0;34m]\u001b[0m \u001b[0;34m=\u001b[0m \u001b[0mspt_data\u001b[0m\u001b[0;34m[\u001b[0m\u001b[0;34m'FIELD'\u001b[0m\u001b[0;34m]\u001b[0m\u001b[0;34m.\u001b[0m\u001b[0mmap\u001b[0m\u001b[0;34m(\u001b[0m\u001b[0;32mlambda\u001b[0m \u001b[0mstring\u001b[0m\u001b[0;34m:\u001b[0m \u001b[0mstring\u001b[0m\u001b[0;34m.\u001b[0m\u001b[0mreplace\u001b[0m\u001b[0;34m(\u001b[0m\u001b[0;34m\" \"\u001b[0m\u001b[0;34m,\u001b[0m \u001b[0;34m\"\"\u001b[0m\u001b[0;34m)\u001b[0m\u001b[0;34m)\u001b[0m\u001b[0;34m\u001b[0m\u001b[0;34m\u001b[0m\u001b[0m\n\u001b[0m\u001b[1;32m      7\u001b[0m \u001b[0mprint\u001b[0m\u001b[0;34m(\u001b[0m\u001b[0mspt_data\u001b[0m\u001b[0;34m[\u001b[0m\u001b[0;34m'FIELD'\u001b[0m\u001b[0;34m]\u001b[0m\u001b[0;34m.\u001b[0m\u001b[0munique\u001b[0m\u001b[0;34m(\u001b[0m\u001b[0;34m)\u001b[0m\u001b[0;34m)\u001b[0m\u001b[0;34m\u001b[0m\u001b[0;34m\u001b[0m\u001b[0m\n\u001b[1;32m      8\u001b[0m \u001b[0;34m\u001b[0m\u001b[0m\n",
      "\u001b[0;32m~/.conda/envs/myLSST/lib/python3.7/site-packages/pandas/core/frame.py\u001b[0m in \u001b[0;36m__getitem__\u001b[0;34m(self, key)\u001b[0m\n\u001b[1;32m   3456\u001b[0m             \u001b[0;32mif\u001b[0m \u001b[0mself\u001b[0m\u001b[0;34m.\u001b[0m\u001b[0mcolumns\u001b[0m\u001b[0;34m.\u001b[0m\u001b[0mnlevels\u001b[0m \u001b[0;34m>\u001b[0m \u001b[0;36m1\u001b[0m\u001b[0;34m:\u001b[0m\u001b[0;34m\u001b[0m\u001b[0;34m\u001b[0m\u001b[0m\n\u001b[1;32m   3457\u001b[0m                 \u001b[0;32mreturn\u001b[0m \u001b[0mself\u001b[0m\u001b[0;34m.\u001b[0m\u001b[0m_getitem_multilevel\u001b[0m\u001b[0;34m(\u001b[0m\u001b[0mkey\u001b[0m\u001b[0;34m)\u001b[0m\u001b[0;34m\u001b[0m\u001b[0;34m\u001b[0m\u001b[0m\n\u001b[0;32m-> 3458\u001b[0;31m             \u001b[0mindexer\u001b[0m \u001b[0;34m=\u001b[0m \u001b[0mself\u001b[0m\u001b[0;34m.\u001b[0m\u001b[0mcolumns\u001b[0m\u001b[0;34m.\u001b[0m\u001b[0mget_loc\u001b[0m\u001b[0;34m(\u001b[0m\u001b[0mkey\u001b[0m\u001b[0;34m)\u001b[0m\u001b[0;34m\u001b[0m\u001b[0;34m\u001b[0m\u001b[0m\n\u001b[0m\u001b[1;32m   3459\u001b[0m             \u001b[0;32mif\u001b[0m \u001b[0mis_integer\u001b[0m\u001b[0;34m(\u001b[0m\u001b[0mindexer\u001b[0m\u001b[0;34m)\u001b[0m\u001b[0;34m:\u001b[0m\u001b[0;34m\u001b[0m\u001b[0;34m\u001b[0m\u001b[0m\n\u001b[1;32m   3460\u001b[0m                 \u001b[0mindexer\u001b[0m \u001b[0;34m=\u001b[0m \u001b[0;34m[\u001b[0m\u001b[0mindexer\u001b[0m\u001b[0;34m]\u001b[0m\u001b[0;34m\u001b[0m\u001b[0;34m\u001b[0m\u001b[0m\n",
      "\u001b[0;32m~/.conda/envs/myLSST/lib/python3.7/site-packages/pandas/core/indexes/base.py\u001b[0m in \u001b[0;36mget_loc\u001b[0;34m(self, key, method, tolerance)\u001b[0m\n\u001b[1;32m   3361\u001b[0m                 \u001b[0;32mreturn\u001b[0m \u001b[0mself\u001b[0m\u001b[0;34m.\u001b[0m\u001b[0m_engine\u001b[0m\u001b[0;34m.\u001b[0m\u001b[0mget_loc\u001b[0m\u001b[0;34m(\u001b[0m\u001b[0mcasted_key\u001b[0m\u001b[0;34m)\u001b[0m\u001b[0;34m\u001b[0m\u001b[0;34m\u001b[0m\u001b[0m\n\u001b[1;32m   3362\u001b[0m             \u001b[0;32mexcept\u001b[0m \u001b[0mKeyError\u001b[0m \u001b[0;32mas\u001b[0m \u001b[0merr\u001b[0m\u001b[0;34m:\u001b[0m\u001b[0;34m\u001b[0m\u001b[0;34m\u001b[0m\u001b[0m\n\u001b[0;32m-> 3363\u001b[0;31m                 \u001b[0;32mraise\u001b[0m \u001b[0mKeyError\u001b[0m\u001b[0;34m(\u001b[0m\u001b[0mkey\u001b[0m\u001b[0;34m)\u001b[0m \u001b[0;32mfrom\u001b[0m \u001b[0merr\u001b[0m\u001b[0;34m\u001b[0m\u001b[0;34m\u001b[0m\u001b[0m\n\u001b[0m\u001b[1;32m   3364\u001b[0m \u001b[0;34m\u001b[0m\u001b[0m\n\u001b[1;32m   3365\u001b[0m         \u001b[0;32mif\u001b[0m \u001b[0mis_scalar\u001b[0m\u001b[0;34m(\u001b[0m\u001b[0mkey\u001b[0m\u001b[0;34m)\u001b[0m \u001b[0;32mand\u001b[0m \u001b[0misna\u001b[0m\u001b[0;34m(\u001b[0m\u001b[0mkey\u001b[0m\u001b[0;34m)\u001b[0m \u001b[0;32mand\u001b[0m \u001b[0;32mnot\u001b[0m \u001b[0mself\u001b[0m\u001b[0;34m.\u001b[0m\u001b[0mhasnans\u001b[0m\u001b[0;34m:\u001b[0m\u001b[0;34m\u001b[0m\u001b[0;34m\u001b[0m\u001b[0m\n",
      "\u001b[0;31mKeyError\u001b[0m: 'FIELD'"
     ]
    }
   ],
   "source": [
    "##Renaming some of the SPT and RedmaPPer column names to avoid using the same name. \n",
    "spt_data.rename(columns = {\"RA\":\"RA_SPT\", \"DEC\":\"DEC_SPT\", \"Xi\":\"XI\", \"Z\":\"Z_SPT\", \"FIELD\":\"FIELD\"}, inplace=True)\n",
    "print(spt_data.columns)\n",
    "\n",
    "#Remove space in FIELD names\n",
    "spt_data['FIELD'] = spt_data['FIELD'].map(lambda string: string.replace(\" \", \"\"))\n",
    "print(spt_data['FIELD'].unique())\n",
    "\n",
    "## For RedMaPPer\n",
    "redM_full.rename(columns = {\"RA\":\"RA_REDM\", \"DEC\":\"DEC_REDM\", \"Z\":\"Z_REDM\"}, inplace=True)\n",
    "redM_cosmo.rename(columns = {\"RA\":\"RA_REDM\", \"DEC\":\"DEC_REDM\", \"Z\":\"Z_REDM\"}, inplace=True)"
   ]
  },
  {
   "cell_type": "markdown",
   "id": "a7997e95-3500-480d-b446-eb54ef10e634",
   "metadata": {},
   "source": [
    "## Apply cuts\n",
    "z $\\in$ [0.25, 0.65] for SPT clusters. \n",
    "\n",
    "MCMF-SZ:\n",
    "* Xi > 4\n",
    "    * f_cont < 0.3\n",
    "    * Xi > 4.5 for SPTpol100d\n",
    "* Xi > 5 for ECS\n",
    "* RM Y3 lgt 20 vl02\n",
    "\n",
    "First match to the full RM then the volume limited set. "
   ]
  },
  {
   "cell_type": "code",
   "execution_count": null,
   "id": "3b4255e7-28b0-4935-9df1-8315df809116",
   "metadata": {},
   "outputs": [],
   "source": [
    "#MCMF Filter\n",
    "mask = (spt_data.FIELD == \"MCMF-SZ\") & (spt_data.XI > 4) & (spt_data.F_CONT_LFC < 0.3)\n",
    "mask |= (spt_data.FIELD == 'ECS') & (spt_data.XI > 4.5)\n",
    "mask |= (spt_data.FIELD == \"SPTPOL_100d\") & (spt_data.XI > 4.5)\n",
    "mask &= (spt_data.Z_SPT > 0.25) & (spt_data.Z_SPT < 0.65)\n",
    "\n",
    "spt_data = spt_data[mask]\n",
    "print(\"After cut number of clusters: \", len(spt_data), \"\\n\")"
   ]
  },
  {
   "cell_type": "markdown",
   "id": "6ff666c0-d06b-4041-bc26-2d3a3cae5308",
   "metadata": {},
   "source": [
    "## Apply Cluster Masking\n",
    "\n",
    "Apply the fullrun mask for looser matching criterion. "
   ]
  },
  {
   "cell_type": "code",
   "execution_count": null,
   "id": "888ba472-7134-4f3d-8397-195f6c299170",
   "metadata": {},
   "outputs": [],
   "source": [
    "RM_zmax_file = bigdatadir + 'redMaPPer/' + 'y3_gold_2.2.1_wide_sofcol_run2_redmapper_v6.4.22+2_lgt20_vl50_vlim_zmask.csv'"
   ]
  },
  {
   "cell_type": "code",
   "execution_count": null,
   "id": "0a85a2b1-4f87-41cb-9ab7-5fc62c1e8d51",
   "metadata": {},
   "outputs": [],
   "source": [
    "RM_zmax = pd.read_csv(RM_zmax_file)"
   ]
  },
  {
   "cell_type": "markdown",
   "id": "2fc2cd5c-1f46-4b9d-a83a-89fefba15c63",
   "metadata": {},
   "source": [
    "#### Cleaning data in the zmask file"
   ]
  },
  {
   "cell_type": "code",
   "execution_count": null,
   "id": "fdb333fa-3e0f-498e-9219-9ba12ab7beae",
   "metadata": {},
   "outputs": [],
   "source": [
    "#Converting HPIX into integer\n",
    "RM_zmax['HPIX'] = RM_zmax['HPIX'].astype(int)"
   ]
  },
  {
   "cell_type": "code",
   "execution_count": null,
   "id": "b3c28ee2-3d3e-4554-9ce2-8e8370e8a018",
   "metadata": {},
   "outputs": [],
   "source": [
    "#Drop duplicated\n",
    "print(\"Length of file is\", len(RM_zmax)) \n",
    "RM_zmax.drop_duplicates(subset=['HPIX'], inplace=True)\n",
    "print(\"After dropping duplicated length of file is\", len(RM_zmax)) "
   ]
  },
  {
   "cell_type": "code",
   "execution_count": null,
   "id": "062b444d-5c28-4bdb-9243-c22bcd1ef1e3",
   "metadata": {},
   "outputs": [],
   "source": [
    "# Remove NAN values\n",
    "print(\"Length of file is\", len(RM_zmax)) \n",
    "RM_zmax.dropna(inplace=True)\n",
    "print(\"After removing NAN length of file is\", len(RM_zmax)) "
   ]
  },
  {
   "cell_type": "code",
   "execution_count": null,
   "id": "7b9c47a5-542e-44e7-8d93-aa13e10be0fe",
   "metadata": {},
   "outputs": [],
   "source": [
    "#Replace NAN values with 0\n",
    "print(RM_zmax['FRACGOOD'].isnull().sum())\n",
    "RM_zmax['FRACGOOD'] = RM_zmax['FRACGOOD'].fillna(0)"
   ]
  },
  {
   "cell_type": "markdown",
   "id": "17863ce9-8a36-4a95-9faf-3091a3e9671f",
   "metadata": {},
   "source": [
    "#### Apply zmask matching"
   ]
  },
  {
   "cell_type": "code",
   "execution_count": null,
   "id": "b18bd535-6276-44d7-a639-5d8b4804b4b8",
   "metadata": {},
   "outputs": [],
   "source": [
    "spt_pix=hp.ang2pix(4096, spt_data.RA_SPT.values, spt_data.DEC_SPT.values, lonlat=True)"
   ]
  },
  {
   "cell_type": "code",
   "execution_count": null,
   "id": "1270cd79-04c7-4146-8ad0-b901f9ea7861",
   "metadata": {},
   "outputs": [],
   "source": [
    "spt_data['HPIX'] = spt_pix"
   ]
  },
  {
   "cell_type": "code",
   "execution_count": null,
   "id": "3207c9ed-2b22-42b4-aa08-21c474432886",
   "metadata": {},
   "outputs": [],
   "source": [
    "spt_data = spt_data[spt_data.HPIX.isin(RM_zmax.HPIX)]\n",
    "print(\"Number of SPT clusters in the DES Y3 cosmology footprint is\", len(spt_data))"
   ]
  },
  {
   "cell_type": "code",
   "execution_count": null,
   "id": "e7b2de82-30a6-497c-82df-8db6b531111d",
   "metadata": {},
   "outputs": [],
   "source": [
    "##Plotting the SPT coordinates after matching\n",
    "plt.scatter(redM_full.RA_REDM, redM_full.DEC_REDM, alpha=0.05, s=0.1)\n",
    "plt.scatter(spt_data.RA_SPT, spt_data.DEC_SPT, alpha=0.5)\n",
    "plt.xlabel('RA'); plt.xlabel('DEC')\n",
    "plt.show()"
   ]
  },
  {
   "cell_type": "markdown",
   "id": "5f5eec33-d420-4dbb-868e-afae22255fb9",
   "metadata": {},
   "source": [
    "## Matching"
   ]
  },
  {
   "cell_type": "code",
   "execution_count": null,
   "id": "6d3edb6f-346d-4b7a-bc3a-951e6c79bba4",
   "metadata": {},
   "outputs": [],
   "source": [
    "a = matched_clusters(spt_data, redM_cosmo, [0,2], verbose=False)\n",
    "a.run_match(['RA_SPT','DEC_SPT','XI', 'Z_SPT'], ['RA_REDM','DEC_REDM','LAMBDA_CHISQ', 'Z_REDM'], \\\n",
    "                       1500, delta_z_lim = 0.1, aperture_type = 'distance', verbose=True)"
   ]
  },
  {
   "cell_type": "markdown",
   "id": "d64fe8d3-330a-4644-92fc-a9717980f242",
   "metadata": {},
   "source": [
    "### (Optional) Pickle the class objecet"
   ]
  },
  {
   "cell_type": "raw",
   "id": "e97a6365-0de5-4c52-832d-8460384ddc94",
   "metadata": {},
   "source": [
    "##pickle the class object for storage\n",
    "\n",
    "with open('matched_spt_combined_lgt20_vl02_dsep1500_deltaz0.1.pkl', 'wb') as outp:\n",
    "    pickle.dump(a, outp, pickle.HIGHEST_PROTOCOL)"
   ]
  },
  {
   "cell_type": "markdown",
   "id": "53381e4f-00b5-419e-852e-079d0e4a7020",
   "metadata": {},
   "source": [
    "### Analysis of the Matched Catalog"
   ]
  },
  {
   "cell_type": "code",
   "execution_count": null,
   "id": "17fa262a-d2da-4295-ad12-592c79885c5b",
   "metadata": {
    "tags": []
   },
   "outputs": [],
   "source": [
    "match_candidates_df = a.get_match_candidates_df()\n",
    "match_top_df = a.get_match_top_df()\n",
    "nomatch_df = a.get_nomatch_df()\n",
    "num_match = a.get_num_match()\n",
    "num_multiple = a.get_multiple_candidates()['num_multiple']\n",
    "print(\"Number of matches\", num_match)\n",
    "print(\"Number of multiple candidate matches\",num_multiple)"
   ]
  },
  {
   "cell_type": "code",
   "execution_count": null,
   "id": "0ac1e8c3-1784-4ce4-84ae-3f57a0a2d5c7",
   "metadata": {},
   "outputs": [],
   "source": [
    "a.plot_scaling_relations()"
   ]
  },
  {
   "cell_type": "code",
   "execution_count": null,
   "id": "bb8b00d5-b71f-4637-952d-a552709bedd5",
   "metadata": {},
   "outputs": [],
   "source": [
    "a.plot_matched_properties()"
   ]
  },
  {
   "cell_type": "code",
   "execution_count": null,
   "id": "6f34f8f2-8426-498f-a4c0-c8d6a07c90ce",
   "metadata": {},
   "outputs": [],
   "source": [
    "a.plot_nomatch_properties()"
   ]
  },
  {
   "cell_type": "code",
   "execution_count": null,
   "id": "67467a8b-8c1f-44f2-8ec5-ded415332b1f",
   "metadata": {},
   "outputs": [],
   "source": [
    "sns.histplot(data=match_top_df, x='M500', hue='FIELD', stat='probability', kde=True, common_norm=False, bins=15)\n",
    "plt.show()\n",
    "sns.histplot(data=match_top_df, x='XI', hue='FIELD', stat='probability', kde=True, common_norm=False, bins=15)\n",
    "plt.show()\n",
    "sns.histplot(data=match_top_df, x='LAMBDA_CHISQ', hue='FIELD', stat='probability', kde=True, common_norm=False, bins=15)\n",
    "plt.show()"
   ]
  },
  {
   "cell_type": "markdown",
   "id": "35c8ffb3-b96e-4d3c-9a7a-a3c50f5eab78",
   "metadata": {},
   "source": [
    "### Changes the aperture size and redshift range to find how matching properties changes as a result. \n"
   ]
  },
  {
   "cell_type": "code",
   "execution_count": null,
   "id": "4b13c725-e2bc-4ff3-bd6a-95864c1d538b",
   "metadata": {},
   "outputs": [],
   "source": [
    "'''\n",
    "Creates a dataframe of matching properties with aperture and redshift separation iterated. \n",
    "\n",
    "Parameters:\n",
    "matched_cl: a matched_clusters object\n",
    "delta_d_lim: A 1D list of distance separation\n",
    "delta_z_lim: A 1D list of redshift separation. \n",
    "\n",
    "Returns:\n",
    "iterate_match_df: A dataframe containing columns ['d_lim', 'delta_z_lim', 'num_match', 'num_multiple']\n",
    "'''\n",
    "\n",
    "def run_match_iterate(matched_cl, delta_d_lim, delta_z_lim):\n",
    "    \n",
    "    iterate_match_df = pd.DataFrame(columns=['d_lim', 'delta_z_lim', 'num_match', 'num_multiple'])\n",
    "\n",
    "    for i, d_cur in tqdm(enumerate(delta_d_lim)):\n",
    "        for j, z_lim_cur in enumerate(delta_z_lim):\n",
    "\n",
    "            matched_cl.run_match(['RA_SPT','DEC_SPT','XI', 'Z_SPT'], ['RA_REDM','DEC_REDM','LAMBDA_CHISQ', 'Z_REDM'], \\\n",
    "                    d_cur, delta_z_lim = z_lim_cur, aperture_type = 'distance', verbose=False)\n",
    "\n",
    "            iterate_match_df = iterate_match_df.append({'d_lim': d_cur, 'delta_z_lim': z_lim_cur, \\\n",
    "                                     'num_match':matched_cl.get_num_match(), \\\n",
    "                                     'num_multiple':matched_cl.get_multiple_candidates()['num_multiple']}, ignore_index=True)\n",
    "    return iterate_match_df\n",
    "        \n",
    "'''\n",
    "Plots heatmap of number of matches and multiple matches as a function of redshift limit and distance separation limit. \n",
    "'''\n",
    "#Use groupby to sort and \n",
    "def plot_match_iterate(iterate_match_df):\n",
    "    sns.heatmap(iterate_match_df.pivot_table(index = 'd_lim',columns ='delta_z_lim',values ='num_match'), annot=True)\n",
    "    plt.show()\n",
    "    sns.heatmap(iterate_match_df.pivot_table(index = 'd_lim',columns ='delta_z_lim',values ='num_multiple'), annot=True)\n",
    "    plt.show()\n",
    "    return"
   ]
  },
  {
   "cell_type": "code",
   "execution_count": null,
   "id": "3b6de6a5-a738-4d60-9e73-262fb01a2510",
   "metadata": {},
   "outputs": [],
   "source": [
    "delta_d_lim = [800, 1000,1200,1500, 2000]\n",
    "delta_z_lim = [0.08,0.1,0.12,0.15,0.2]\n",
    "matched_cl = matched_clusters(spt_data, redM_data, verbose=True)"
   ]
  },
  {
   "cell_type": "code",
   "execution_count": null,
   "id": "2d963977-3505-4f66-b9c9-b568f5fffdad",
   "metadata": {},
   "outputs": [],
   "source": [
    "iterate_match_df = run_match_iterate(matched_cl, delta_d_lim, delta_z_lim)"
   ]
  },
  {
   "cell_type": "code",
   "execution_count": null,
   "id": "ff11384d-1f09-4e60-b0d9-5fe6c33c49f0",
   "metadata": {},
   "outputs": [],
   "source": [
    "plot_match_iterate(iterate_match_df)"
   ]
  },
  {
   "cell_type": "markdown",
   "id": "4cc24497-e078-418f-a929-b8336d993ec5",
   "metadata": {},
   "source": [
    "## Testing outliers. "
   ]
  },
  {
   "cell_type": "code",
   "execution_count": null,
   "id": "560a6a2d-b4d3-45f6-a06c-8542f9502ccc",
   "metadata": {},
   "outputs": [],
   "source": [
    "match_candidates_df.sort_values(by='xi', ascending=False).head()"
   ]
  },
  {
   "cell_type": "code",
   "execution_count": null,
   "id": "3d43181e-b482-4029-a966-17e7b0118e2b",
   "metadata": {},
   "outputs": [],
   "source": []
  }
 ],
 "metadata": {
  "kernelspec": {
   "display_name": "myLSST",
   "language": "python",
   "name": "mylsst"
  },
  "language_info": {
   "codemirror_mode": {
    "name": "ipython",
    "version": 3
   },
   "file_extension": ".py",
   "mimetype": "text/x-python",
   "name": "python",
   "nbconvert_exporter": "python",
   "pygments_lexer": "ipython3",
   "version": "3.7.12"
  }
 },
 "nbformat": 4,
 "nbformat_minor": 5
}
