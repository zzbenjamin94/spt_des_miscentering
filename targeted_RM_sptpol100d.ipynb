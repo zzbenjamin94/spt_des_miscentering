{
 "cells": [
  {
   "cell_type": "markdown",
   "id": "87b05870-a034-4593-aa06-6e6732cce539",
   "metadata": {},
   "source": [
    "### Targeted RM Mode\n",
    "\n",
    "This catalog compares the properties of clusters using targeted RM centered at SPT locations. \n",
    "\n",
    "Features:\n",
    "* Compares the RM of the matched clusters. \n",
    "* For the unmatched clusters check for richness and the masking fraction. \n",
    "* **What other features do you want to test?**"
   ]
  },
  {
   "cell_type": "markdown",
   "id": "253ab8c8-34d5-4fee-8592-b33d58d06404",
   "metadata": {
    "tags": []
   },
   "source": [
    "### Mumbo Jumbo Import Statements and Params Definition"
   ]
  },
  {
   "cell_type": "code",
   "execution_count": 2,
   "id": "cf5a2b69-2fc9-465b-8bb5-e8c2e62afafa",
   "metadata": {},
   "outputs": [],
   "source": [
    "import matplotlib.pyplot as plt\n",
    "import matplotlib.ticker as ticker\n",
    "import seaborn as sns\n",
    "\n",
    "from glob import glob\n",
    "import numpy as np\n",
    "import healpy as hp\n",
    "import struct\n",
    "\n",
    "import setup\n",
    "from astropy.table import Table\n",
    "#Coordinate\n",
    "from astropy.coordinates import SkyCoord\n",
    "from astropy import units as u\n",
    "from astropy.cosmology import WMAP9 as cosmo\n",
    "from astropy.coordinates import SkyCoord\n",
    "from astropy.io import fits\n",
    "\n",
    "import pandas as pd\n",
    "from tqdm import tqdm\n",
    "import math\n",
    "\n",
    "import pickle\n",
    "from matched_clusters import matched_clusters"
   ]
  },
  {
   "cell_type": "code",
   "execution_count": 3,
   "id": "1f4227cc-8e23-4960-8906-de337acbf25d",
   "metadata": {},
   "outputs": [],
   "source": [
    "#Plotting params\n",
    "#Plotting parameters\n",
    "import matplotlib as mpl\n",
    "\n",
    "mpl.rcParams['xtick.direction'], mpl.rcParams['ytick.direction'] = 'in', 'in'\n",
    "mpl.rcParams['xtick.major.size'], mpl.rcParams['xtick.minor.size'] = 14, 8\n",
    "mpl.rcParams['xtick.major.width'], mpl.rcParams['xtick.minor.width'] = 1.2, 0.8\n",
    "mpl.rcParams['xtick.major.pad'], mpl.rcParams['xtick.minor.pad'] = 10, 10\n",
    "mpl.rcParams['ytick.major.size'], mpl.rcParams['ytick.minor.size'] = 14, 8\n",
    "mpl.rcParams['ytick.major.width'], mpl.rcParams['ytick.minor.width'] = 1.2, 0.8\n",
    "mpl.rcParams['xtick.labelsize'], mpl.rcParams['ytick.labelsize'] = 20, 20\n",
    "\n",
    "# Parameters used in this module\n",
    "# One dictionary to store default values\n",
    "# Another that user can view/change as necessary\n",
    "Default_Params = {'default_cmap'   : plt.cm.coolwarm,\n",
    "                  'title_fontsize' : 25,\n",
    "                  'legend_fontsize': 22,\n",
    "                  'xlabel_fontsize': 30,\n",
    "                  'ylabel_fontsize': 30,\n",
    "                  'scatter_factor' : 1.0}\n",
    "\n",
    "Params = Default_Params.copy()"
   ]
  },
  {
   "cell_type": "code",
   "execution_count": 4,
   "id": "6d574d75-8088-4f61-b89e-b904ffa5e004",
   "metadata": {},
   "outputs": [],
   "source": [
    "##Setting up directories\n",
    "datadir = setup.data_home_dir()\n",
    "outpdir = setup.output_home_dir()\n",
    "bigdatadir = setup.bigdata_home_dir()"
   ]
  },
  {
   "cell_type": "markdown",
   "id": "295d0dda-3e57-436b-aac0-1603b479b66b",
   "metadata": {},
   "source": [
    "## The Real Deal\n",
    "\n",
    "### Importing the Catalogs"
   ]
  },
  {
   "cell_type": "code",
   "execution_count": 5,
   "id": "87e59070-cfa3-49a5-ad63-9d0d8e9b8b6a",
   "metadata": {
    "jp-MarkdownHeadingCollapsed": true,
    "tags": []
   },
   "outputs": [],
   "source": [
    "#DES-SPT matched catalog\n",
    "matched_pkl = outpdir + 'matched_pol100_lgt5_vl50_dsep1000_deltaz0.1.pkl'\n",
    "\n",
    "with open(matched_pkl, 'rb') as inp:\n",
    "    matched_catalog = pickle.load(inp)\n",
    "    \n",
    "top_match = matched_catalog.get_match_top_df()\n",
    "no_match = matched_catalog.get_nomatch_df()"
   ]
  },
  {
   "cell_type": "code",
   "execution_count": 6,
   "id": "57f1d130-810b-4663-8452-206b07ddec7a",
   "metadata": {},
   "outputs": [
    {
     "name": "stdout",
     "output_type": "stream",
     "text": [
      "Index(['SPT_ID', 'RA_SPT', 'DEC_SPT', 'xi', 'theta_core', 'Z_SPT',\n",
      "       'redshift_unc', 'M500', 'M500_lerr', 'M500_uerr', 'imaging', 'P_blank',\n",
      "       'FIELD'],\n",
      "      dtype='object')\n"
     ]
    },
    {
     "data": {
      "text/plain": [
       "59"
      ]
     },
     "execution_count": 6,
     "metadata": {},
     "output_type": "execute_result"
    }
   ],
   "source": [
    "print(no_match.columns)\n",
    "matched_catalog.get_num_match()"
   ]
  },
  {
   "cell_type": "code",
   "execution_count": 8,
   "id": "f28ac1d6-bb06-4b8f-9752-7c50799eb865",
   "metadata": {},
   "outputs": [
    {
     "name": "stdout",
     "output_type": "stream",
     "text": [
      "Index(['MEM_MATCH_ID', 'RA', 'DEC', 'Z', 'SPT_ID', 'LAMBDA_CHISQ',\n",
      "       'LAMBDA_CHISQ_E', 'LAMBDA_CHISQ_ZORIG', 'SCALEVAL', 'LAMBDA_ZRED',\n",
      "       'LAMBDA_ZRED_E', 'MASKFRAC', 'GEOMASKFRAC', 'R_LAMBDA', 'R_MASK',\n",
      "       'Z_LAMBDA', 'Z_LAMBDA_E', 'NCROSS', 'Z_LAMBDA_NITER', 'DLAMBDA_DZ',\n",
      "       'DLAMBDA_DZ2', 'DLAMBDAVAR_DZ', 'DLAMBDAVAR_DZ2', 'C_LAMBDA',\n",
      "       'C_LAMBDA_ERR', 'MAG_LAMBDA_ERR', 'PZBINS', 'PZ', 'Z_LAMBDA_RAW',\n",
      "       'Z_LAMBDA_E_RAW', 'P_BCG', 'BCG_SPEC_Z', 'LIM_EXPTIME',\n",
      "       'LIM_LIMMAG_DERED', 'LIM_LIMMAG', 'LIM_LIMMAG_HARD'],\n",
      "      dtype='object')\n"
     ]
    }
   ],
   "source": [
    "#Import the Target SPT Catalog\n",
    "redM_target = datadir + 'redMaPPer/y3_gold_2.2.1_wide_sofcol_run2_sptpol100d_092821_lambda_chisq.csv'\n",
    "#redM_target = fits.open(redM_target)\n",
    "#redM_target = redM_target[1].data\n",
    "redM_target = pd.read_csv(redM_target)\n",
    "print(redM_target.columns)"
   ]
  },
  {
   "cell_type": "markdown",
   "id": "bf87b543-e31b-460d-a1c2-ad5cf8a2a840",
   "metadata": {},
   "source": [
    "### Comparison of no match properties\n",
    "* Redshift comparison\n",
    "* LAMBDA_CHISQ\n",
    "* MASKFRAC"
   ]
  },
  {
   "cell_type": "code",
   "execution_count": 14,
   "id": "ed6ba250-0fa0-4eeb-b50f-71eb712f781a",
   "metadata": {},
   "outputs": [],
   "source": [
    "no_match_merge = pd.merge(left=no_match, right=redM_target, how='left', left_on='SPT_ID', right_on='SPT_ID')"
   ]
  },
  {
   "cell_type": "code",
   "execution_count": 15,
   "id": "84d10089-17c0-4e8f-bdc9-b353f491b200",
   "metadata": {},
   "outputs": [],
   "source": [
    "import matplotlib as mpl\n",
    "from matplotlib.colors import LinearSegmentedColormap\n",
    "#Discretize the MASKFRAC\n",
    "colors = [\"darkgreen\", \"palegreen\"]\n",
    "cmap=LinearSegmentedColormap.from_list(\"\", colors)\n",
    "bounds = [0., 0.2, 0.4, 0.6, 0.8, 1.]\n",
    "norm = mpl.colors.BoundaryNorm(bounds, cmap.N)"
   ]
  },
  {
   "cell_type": "code",
   "execution_count": 16,
   "id": "4cbd94df-62ec-40c4-aab4-668dc51f251c",
   "metadata": {},
   "outputs": [
    {
     "data": {
      "image/png": "[encoded data removed]",
      "text/plain": [
       "<Figure size 432x288 with 2 Axes>"
      ]
     },
     "metadata": {
      "needs_background": "light"
     },
     "output_type": "display_data"
    }
   ],
   "source": [
    "#Redshift comparison\n",
    "plt.figure(tight_layout=True)\n",
    "s = plt.scatter(no_match_merge.Z_LAMBDA, no_match_merge.Z_SPT, c=no_match_merge.MASKFRAC, cmap=cmap, norm=norm, s=100, marker='x')\n",
    "cb = plt.colorbar(s)\n",
    "plt.xlabel('Z_LAMBDA'); plt.ylabel('Z_SPT')\n",
    "cb.set_label('MASKFRAC')\n",
    "#plt.savefig('targetedRM_sptpol100_nomatch_redshift.png')\n",
    "plt.show()"
   ]
  },
  {
   "cell_type": "code",
   "execution_count": 17,
   "id": "d09f4edf-27fa-4456-8655-527884cb35f2",
   "metadata": {},
   "outputs": [
    {
     "data": {
      "image/png": "[encoded data removed]",
      "text/plain": [
       "<Figure size 432x288 with 2 Axes>"
      ]
     },
     "metadata": {
      "needs_background": "light"
     },
     "output_type": "display_data"
    }
   ],
   "source": [
    "#LAMBDA CHISQ\n",
    "plt.figure(tight_layout=True)\n",
    "s = plt.scatter(no_match_merge.LAMBDA_CHISQ, no_match_merge.Z_SPT, c=no_match_merge.MASKFRAC, cmap=cmap, norm=norm, s=100, marker='x')\n",
    "plt.xlabel('LAMBDA_CHISQ'); plt.ylabel('Z_SPT')\n",
    "cb = plt.colorbar(s)\n",
    "cb.set_label('MASKFRAC')\n",
    "#plt.set_cmap('gist_gray')\n",
    "plt.axvline(20, linestyle='dashed', color='black')\n",
    "plt.axhline(1.0, linestyle='dashed', color='black')\n",
    "#plt.savefig('targetedRM_sptpol100d_nomatch_dist.png')\n",
    "plt.show()"
   ]
  },
  {
   "cell_type": "code",
   "execution_count": 18,
   "id": "e7e6baee-0337-46b1-a9d8-47db1a6d121b",
   "metadata": {},
   "outputs": [
    {
     "data": {
      "text/html": [
       "<div>\n",
       "<style scoped>\n",
       "    .dataframe tbody tr th:only-of-type {\n",
       "        vertical-align: middle;\n",
       "    }\n",
       "\n",
       "    .dataframe tbody tr th {\n",
       "        vertical-align: top;\n",
       "    }\n",
       "\n",
       "    .dataframe thead th {\n",
       "        text-align: right;\n",
       "    }\n",
       "</style>\n",
       "<table border=\"1\" class=\"dataframe\">\n",
       "  <thead>\n",
       "    <tr style=\"text-align: right;\">\n",
       "      <th></th>\n",
       "      <th>SPT_ID</th>\n",
       "      <th>RA_SPT</th>\n",
       "      <th>DEC_SPT</th>\n",
       "      <th>LAMBDA_CHISQ</th>\n",
       "      <th>xi</th>\n",
       "      <th>Z_SPT</th>\n",
       "      <th>MASKFRAC</th>\n",
       "    </tr>\n",
       "  </thead>\n",
       "  <tbody>\n",
       "    <tr>\n",
       "      <th>10</th>\n",
       "      <td>SPT-CLJ2331-5736</td>\n",
       "      <td>352.899090</td>\n",
       "      <td>-57.614283</td>\n",
       "      <td>-3.329798</td>\n",
       "      <td>8.401972</td>\n",
       "      <td>1.380000</td>\n",
       "      <td>0.010006</td>\n",
       "    </tr>\n",
       "    <tr>\n",
       "      <th>1</th>\n",
       "      <td>SPT-CLJ0002-5557</td>\n",
       "      <td>0.504762</td>\n",
       "      <td>-55.962350</td>\n",
       "      <td>-1.000000</td>\n",
       "      <td>7.217852</td>\n",
       "      <td>1.150000</td>\n",
       "      <td>0.004464</td>\n",
       "    </tr>\n",
       "    <tr>\n",
       "      <th>2</th>\n",
       "      <td>SPT-CLJ2259-5301</td>\n",
       "      <td>344.828450</td>\n",
       "      <td>-53.030793</td>\n",
       "      <td>0.000000</td>\n",
       "      <td>5.079853</td>\n",
       "      <td>1.160000</td>\n",
       "      <td>0.989245</td>\n",
       "    </tr>\n",
       "    <tr>\n",
       "      <th>4</th>\n",
       "      <td>SPT-CLJ2310-5919</td>\n",
       "      <td>347.569560</td>\n",
       "      <td>-59.320252</td>\n",
       "      <td>0.000000</td>\n",
       "      <td>6.119353</td>\n",
       "      <td>0.768477</td>\n",
       "      <td>0.779324</td>\n",
       "    </tr>\n",
       "    <tr>\n",
       "      <th>7</th>\n",
       "      <td>SPT-CLJ2320-5807</td>\n",
       "      <td>350.069380</td>\n",
       "      <td>-58.131121</td>\n",
       "      <td>0.000000</td>\n",
       "      <td>5.796733</td>\n",
       "      <td>0.562172</td>\n",
       "      <td>0.834262</td>\n",
       "    </tr>\n",
       "    <tr>\n",
       "      <th>15</th>\n",
       "      <td>SPT-CLJ2341-5640</td>\n",
       "      <td>355.453470</td>\n",
       "      <td>-56.667843</td>\n",
       "      <td>0.000000</td>\n",
       "      <td>5.934129</td>\n",
       "      <td>0.480004</td>\n",
       "      <td>0.812941</td>\n",
       "    </tr>\n",
       "    <tr>\n",
       "      <th>18</th>\n",
       "      <td>SPT-CLJ2355-5514</td>\n",
       "      <td>358.866850</td>\n",
       "      <td>-55.249732</td>\n",
       "      <td>5.938398</td>\n",
       "      <td>4.913901</td>\n",
       "      <td>1.320000</td>\n",
       "      <td>0.148444</td>\n",
       "    </tr>\n",
       "    <tr>\n",
       "      <th>13</th>\n",
       "      <td>SPT-CLJ2336-5252</td>\n",
       "      <td>354.087700</td>\n",
       "      <td>-52.872471</td>\n",
       "      <td>10.530146</td>\n",
       "      <td>6.743971</td>\n",
       "      <td>1.220000</td>\n",
       "      <td>0.000000</td>\n",
       "    </tr>\n",
       "    <tr>\n",
       "      <th>8</th>\n",
       "      <td>SPT-CLJ2323-5752</td>\n",
       "      <td>350.878720</td>\n",
       "      <td>-57.883099</td>\n",
       "      <td>14.206594</td>\n",
       "      <td>5.142548</td>\n",
       "      <td>1.300000</td>\n",
       "      <td>0.009390</td>\n",
       "    </tr>\n",
       "    <tr>\n",
       "      <th>19</th>\n",
       "      <td>SPT-CLJ2355-6002</td>\n",
       "      <td>358.794200</td>\n",
       "      <td>-60.042788</td>\n",
       "      <td>14.633734</td>\n",
       "      <td>4.778688</td>\n",
       "      <td>1.220000</td>\n",
       "      <td>0.021481</td>\n",
       "    </tr>\n",
       "    <tr>\n",
       "      <th>5</th>\n",
       "      <td>SPT-CLJ2316-5027</td>\n",
       "      <td>349.185380</td>\n",
       "      <td>-50.455047</td>\n",
       "      <td>15.594797</td>\n",
       "      <td>4.726926</td>\n",
       "      <td>1.120000</td>\n",
       "      <td>0.014656</td>\n",
       "    </tr>\n",
       "    <tr>\n",
       "      <th>17</th>\n",
       "      <td>SPT-CLJ2342-5411</td>\n",
       "      <td>355.694020</td>\n",
       "      <td>-54.186883</td>\n",
       "      <td>16.769430</td>\n",
       "      <td>10.418773</td>\n",
       "      <td>1.075000</td>\n",
       "      <td>0.010661</td>\n",
       "    </tr>\n",
       "    <tr>\n",
       "      <th>11</th>\n",
       "      <td>SPT-CLJ2334-5308</td>\n",
       "      <td>353.518760</td>\n",
       "      <td>-53.139661</td>\n",
       "      <td>17.745749</td>\n",
       "      <td>6.020358</td>\n",
       "      <td>1.200000</td>\n",
       "      <td>0.000240</td>\n",
       "    </tr>\n",
       "    <tr>\n",
       "      <th>12</th>\n",
       "      <td>SPT-CLJ2335-5434</td>\n",
       "      <td>353.886640</td>\n",
       "      <td>-54.579481</td>\n",
       "      <td>18.584772</td>\n",
       "      <td>5.257453</td>\n",
       "      <td>1.030000</td>\n",
       "      <td>0.006258</td>\n",
       "    </tr>\n",
       "    <tr>\n",
       "      <th>3</th>\n",
       "      <td>SPT-CLJ2306-5120</td>\n",
       "      <td>346.612080</td>\n",
       "      <td>-51.346487</td>\n",
       "      <td>26.807203</td>\n",
       "      <td>8.112616</td>\n",
       "      <td>1.260000</td>\n",
       "      <td>0.000460</td>\n",
       "    </tr>\n",
       "    <tr>\n",
       "      <th>16</th>\n",
       "      <td>SPT-CLJ2341-5724</td>\n",
       "      <td>355.352680</td>\n",
       "      <td>-57.416085</td>\n",
       "      <td>32.695625</td>\n",
       "      <td>13.311221</td>\n",
       "      <td>1.259000</td>\n",
       "      <td>0.004455</td>\n",
       "    </tr>\n",
       "    <tr>\n",
       "      <th>9</th>\n",
       "      <td>SPT-CLJ2328-5550</td>\n",
       "      <td>352.038350</td>\n",
       "      <td>-55.846609</td>\n",
       "      <td>37.058548</td>\n",
       "      <td>4.651302</td>\n",
       "      <td>0.770000</td>\n",
       "      <td>0.540250</td>\n",
       "    </tr>\n",
       "    <tr>\n",
       "      <th>0</th>\n",
       "      <td>SPT-CLJ0002-5017</td>\n",
       "      <td>0.651454</td>\n",
       "      <td>-50.288932</td>\n",
       "      <td>41.131622</td>\n",
       "      <td>5.447203</td>\n",
       "      <td>0.901207</td>\n",
       "      <td>0.243325</td>\n",
       "    </tr>\n",
       "    <tr>\n",
       "      <th>6</th>\n",
       "      <td>SPT-CLJ2317-5000</td>\n",
       "      <td>349.325850</td>\n",
       "      <td>-50.001785</td>\n",
       "      <td>43.267320</td>\n",
       "      <td>4.869321</td>\n",
       "      <td>1.110000</td>\n",
       "      <td>0.009927</td>\n",
       "    </tr>\n",
       "    <tr>\n",
       "      <th>14</th>\n",
       "      <td>SPT-CLJ2341-5119</td>\n",
       "      <td>355.300310</td>\n",
       "      <td>-51.329906</td>\n",
       "      <td>48.530290</td>\n",
       "      <td>22.051073</td>\n",
       "      <td>1.003000</td>\n",
       "      <td>0.003814</td>\n",
       "    </tr>\n",
       "  </tbody>\n",
       "</table>\n",
       "</div>"
      ],
      "text/plain": [
       "              SPT_ID      RA_SPT    DEC_SPT  LAMBDA_CHISQ         xi  \\\n",
       "10  SPT-CLJ2331-5736  352.899090 -57.614283     -3.329798   8.401972   \n",
       "1   SPT-CLJ0002-5557    0.504762 -55.962350     -1.000000   7.217852   \n",
       "2   SPT-CLJ2259-5301  344.828450 -53.030793      0.000000   5.079853   \n",
       "4   SPT-CLJ2310-5919  347.569560 -59.320252      0.000000   6.119353   \n",
       "7   SPT-CLJ2320-5807  350.069380 -58.131121      0.000000   5.796733   \n",
       "15  SPT-CLJ2341-5640  355.453470 -56.667843      0.000000   5.934129   \n",
       "18  SPT-CLJ2355-5514  358.866850 -55.249732      5.938398   4.913901   \n",
       "13  SPT-CLJ2336-5252  354.087700 -52.872471     10.530146   6.743971   \n",
       "8   SPT-CLJ2323-5752  350.878720 -57.883099     14.206594   5.142548   \n",
       "19  SPT-CLJ2355-6002  358.794200 -60.042788     14.633734   4.778688   \n",
       "5   SPT-CLJ2316-5027  349.185380 -50.455047     15.594797   4.726926   \n",
       "17  SPT-CLJ2342-5411  355.694020 -54.186883     16.769430  10.418773   \n",
       "11  SPT-CLJ2334-5308  353.518760 -53.139661     17.745749   6.020358   \n",
       "12  SPT-CLJ2335-5434  353.886640 -54.579481     18.584772   5.257453   \n",
       "3   SPT-CLJ2306-5120  346.612080 -51.346487     26.807203   8.112616   \n",
       "16  SPT-CLJ2341-5724  355.352680 -57.416085     32.695625  13.311221   \n",
       "9   SPT-CLJ2328-5550  352.038350 -55.846609     37.058548   4.651302   \n",
       "0   SPT-CLJ0002-5017    0.651454 -50.288932     41.131622   5.447203   \n",
       "6   SPT-CLJ2317-5000  349.325850 -50.001785     43.267320   4.869321   \n",
       "14  SPT-CLJ2341-5119  355.300310 -51.329906     48.530290  22.051073   \n",
       "\n",
       "       Z_SPT  MASKFRAC  \n",
       "10  1.380000  0.010006  \n",
       "1   1.150000  0.004464  \n",
       "2   1.160000  0.989245  \n",
       "4   0.768477  0.779324  \n",
       "7   0.562172  0.834262  \n",
       "15  0.480004  0.812941  \n",
       "18  1.320000  0.148444  \n",
       "13  1.220000  0.000000  \n",
       "8   1.300000  0.009390  \n",
       "19  1.220000  0.021481  \n",
       "5   1.120000  0.014656  \n",
       "17  1.075000  0.010661  \n",
       "11  1.200000  0.000240  \n",
       "12  1.030000  0.006258  \n",
       "3   1.260000  0.000460  \n",
       "16  1.259000  0.004455  \n",
       "9   0.770000  0.540250  \n",
       "0   0.901207  0.243325  \n",
       "6   1.110000  0.009927  \n",
       "14  1.003000  0.003814  "
      ]
     },
     "execution_count": 18,
     "metadata": {},
     "output_type": "execute_result"
    }
   ],
   "source": [
    "no_match_merge.sort_values(by='LAMBDA_CHISQ', ascending=True)[['SPT_ID', 'RA_SPT', 'DEC_SPT', 'LAMBDA_CHISQ', 'xi', 'Z_SPT', 'MASKFRAC']]"
   ]
  },
  {
   "cell_type": "markdown",
   "id": "e438c9d0-a191-4ac7-95f8-4068bf1870bd",
   "metadata": {},
   "source": [
    "## Comparison of the matched clusters\n",
    "\n",
    "To append onto the top_match DF the targeted RM:\n",
    "* Maskfrac\n",
    "* LAMBDA_CHISQ\n",
    "* LAMBDA_Z\n",
    "\n",
    "Comparison plots:\n",
    "Think about this."
   ]
  },
  {
   "cell_type": "code",
   "execution_count": 19,
   "id": "de397720-dc88-47cb-a9e1-d6e5df60e965",
   "metadata": {},
   "outputs": [],
   "source": [
    "redM_target_append = pd.DataFrame.copy(redM_target[[\"SPT_ID\", \"LAMBDA_CHISQ\", \"Z_LAMBDA\", \"MASKFRAC\"]])\n",
    "redM_target_append.rename(columns={\"LAMBDA_CHISQ\": \"LAMBDA_CHISQ_TARG\", \"Z_LAMBDA\": \"Z_LAMBDA_TARG\", \"MASKFRAC\": \"MASKFRAC_TARG\"}, inplace=True)"
   ]
  },
  {
   "cell_type": "code",
   "execution_count": 20,
   "id": "0046dec6-6793-4ead-9804-9e921711063c",
   "metadata": {},
   "outputs": [],
   "source": [
    "top_match_merge = pd.merge(left=top_match, right=redM_target_append, how='left', left_on='SPT_ID', right_on='SPT_ID')"
   ]
  },
  {
   "cell_type": "code",
   "execution_count": 21,
   "id": "c5f63f04-7bda-4370-89d1-9cbef114eb49",
   "metadata": {},
   "outputs": [
    {
     "name": "stdout",
     "output_type": "stream",
     "text": [
      "['SPT_ID', 'RA_SPT', 'DEC_SPT', 'xi', 'theta_core', 'Z_SPT', 'redshift_unc', 'M500', 'M500_lerr', 'M500_uerr', 'imaging', 'P_blank', 'FIELD', 'MEM_MATCH_ID', 'RA_REDM', 'DEC_REDM', 'MODEL_MAG', 'MODEL_MAGERR', 'REFMAG', 'REFMAG_ERR', 'ZRED', 'ZRED_E', 'ZRED_CHISQ', 'BCG_SPEC_Z', 'Z_SPEC_INIT', 'Z_INIT', 'Z_REDM', 'LAMBDA_CHISQ', 'LAMBDA_CHISQ_E', 'LAMBDA_ZRED', 'LAMBDA_ZRED_E', 'R_LAMBDA', 'SCALEVAL', 'MASKFRAC', 'GEOMASKFRAC', 'C_LAMBDA', 'C_LAMBDA_ERR', 'MAG_LAMBDA_ERR', 'CHISQ', 'Z_LAMBDA', 'Z_LAMBDA_E', 'Z_LAMBDA_NITER', 'EBV_MEAN', 'LNLAMLIKE', 'LNBCGLIKE', 'LNLIKE', 'PZBINS', 'PZ', 'NCROSS', 'RMASK', 'RA_ORIG', 'DEC_ORIG', 'W', 'DLAMBDA_DZ', 'DLAMBDA_DZ2', 'DLAMBDAVAR_DZ', 'DLAMBDAVAR_DZ2', 'LAMBDA_CHISQ_C', 'LAMBDA_CHISQ_CE', 'NCENT', 'NCENT_GOOD', 'RA_CENT', 'DEC_CENT', 'ID_CENT', 'LAMBDA_CHISQ_CENT', 'ZLAMBDA_CENT', 'P_BCG', 'P_CEN', 'Q_CEN', 'P_FG', 'Q_MISS', 'P_SAT', 'P_C', 'BCG_ILUM', 'ILUM', 'Z_LAMBDA_RAW', 'Z_LAMBDA_E_RAW', 'LIM_EXPTIME', 'LIM_LIMMAG_DERED', 'LIM_LIMMAG', 'LIM_LIMMAG_HARD', 'MASKGAL_INDEX', 'propD_sep', 'Delta_Z', 'LAMBDA_CHISQ_TARG', 'Z_LAMBDA_TARG', 'MASKFRAC_TARG']\n"
     ]
    }
   ],
   "source": [
    "print([top_match_merge.columns[i] for i, col  in enumerate(top_match_merge.columns)])"
   ]
  },
  {
   "cell_type": "markdown",
   "id": "c82b4356-ac65-4ede-9c8f-24f4ba077e69",
   "metadata": {},
   "source": [
    "#### Filter values"
   ]
  },
  {
   "cell_type": "code",
   "execution_count": 22,
   "id": "b325ccf7-15dd-4f2c-8346-47af118f985b",
   "metadata": {},
   "outputs": [
    {
     "data": {
      "text/html": [
       "<div>\n",
       "<style scoped>\n",
       "    .dataframe tbody tr th:only-of-type {\n",
       "        vertical-align: middle;\n",
       "    }\n",
       "\n",
       "    .dataframe tbody tr th {\n",
       "        vertical-align: top;\n",
       "    }\n",
       "\n",
       "    .dataframe thead th {\n",
       "        text-align: right;\n",
       "    }\n",
       "</style>\n",
       "<table border=\"1\" class=\"dataframe\">\n",
       "  <thead>\n",
       "    <tr style=\"text-align: right;\">\n",
       "      <th></th>\n",
       "      <th>SPT_ID</th>\n",
       "      <th>RA_SPT</th>\n",
       "      <th>DEC_SPT</th>\n",
       "      <th>LAMBDA_CHISQ</th>\n",
       "      <th>LAMBDA_CHISQ_TARG</th>\n",
       "      <th>xi</th>\n",
       "      <th>Z_SPT</th>\n",
       "      <th>MASKFRAC</th>\n",
       "    </tr>\n",
       "  </thead>\n",
       "  <tbody>\n",
       "    <tr>\n",
       "      <th>2</th>\n",
       "      <td>SPT-CLJ0001-5440</td>\n",
       "      <td>0.413165</td>\n",
       "      <td>-54.669517</td>\n",
       "      <td>85.264270</td>\n",
       "      <td>44.563995</td>\n",
       "      <td>9.110645</td>\n",
       "      <td>0.820000</td>\n",
       "      <td>0.007656</td>\n",
       "    </tr>\n",
       "    <tr>\n",
       "      <th>12</th>\n",
       "      <td>SPT-CLJ2304-5718</td>\n",
       "      <td>346.108040</td>\n",
       "      <td>-57.309929</td>\n",
       "      <td>30.590437</td>\n",
       "      <td>18.264418</td>\n",
       "      <td>6.252863</td>\n",
       "      <td>0.897056</td>\n",
       "      <td>0.003537</td>\n",
       "    </tr>\n",
       "    <tr>\n",
       "      <th>18</th>\n",
       "      <td>SPT-CLJ2311-5820</td>\n",
       "      <td>347.995480</td>\n",
       "      <td>-58.336319</td>\n",
       "      <td>33.046486</td>\n",
       "      <td>-1.000000</td>\n",
       "      <td>5.469923</td>\n",
       "      <td>0.930000</td>\n",
       "      <td>0.017736</td>\n",
       "    </tr>\n",
       "    <tr>\n",
       "      <th>19</th>\n",
       "      <td>SPT-CLJ2312-5101</td>\n",
       "      <td>348.242120</td>\n",
       "      <td>-51.029217</td>\n",
       "      <td>41.772330</td>\n",
       "      <td>30.788752</td>\n",
       "      <td>4.812294</td>\n",
       "      <td>0.350000</td>\n",
       "      <td>0.007378</td>\n",
       "    </tr>\n",
       "    <tr>\n",
       "      <th>20</th>\n",
       "      <td>SPT-CLJ2314-5554</td>\n",
       "      <td>348.535490</td>\n",
       "      <td>-55.901563</td>\n",
       "      <td>31.048086</td>\n",
       "      <td>19.698385</td>\n",
       "      <td>4.879810</td>\n",
       "      <td>0.711617</td>\n",
       "      <td>0.009202</td>\n",
       "    </tr>\n",
       "    <tr>\n",
       "      <th>31</th>\n",
       "      <td>SPT-CLJ2327-5137</td>\n",
       "      <td>351.780070</td>\n",
       "      <td>-51.623137</td>\n",
       "      <td>72.221260</td>\n",
       "      <td>59.468100</td>\n",
       "      <td>6.222599</td>\n",
       "      <td>0.338100</td>\n",
       "      <td>0.012916</td>\n",
       "    </tr>\n",
       "    <tr>\n",
       "      <th>32</th>\n",
       "      <td>SPT-CLJ2328-5533</td>\n",
       "      <td>352.178020</td>\n",
       "      <td>-55.560460</td>\n",
       "      <td>60.398660</td>\n",
       "      <td>48.591310</td>\n",
       "      <td>7.876473</td>\n",
       "      <td>0.772674</td>\n",
       "      <td>0.008596</td>\n",
       "    </tr>\n",
       "    <tr>\n",
       "      <th>33</th>\n",
       "      <td>SPT-CLJ2329-5831</td>\n",
       "      <td>352.471240</td>\n",
       "      <td>-58.524097</td>\n",
       "      <td>64.181890</td>\n",
       "      <td>39.224754</td>\n",
       "      <td>10.805716</td>\n",
       "      <td>0.719200</td>\n",
       "      <td>0.006505</td>\n",
       "    </tr>\n",
       "    <tr>\n",
       "      <th>55</th>\n",
       "      <td>SPT-CLJ2355-5850</td>\n",
       "      <td>358.961900</td>\n",
       "      <td>-58.846784</td>\n",
       "      <td>46.928513</td>\n",
       "      <td>30.514162</td>\n",
       "      <td>4.935186</td>\n",
       "      <td>0.970000</td>\n",
       "      <td>0.005303</td>\n",
       "    </tr>\n",
       "  </tbody>\n",
       "</table>\n",
       "</div>"
      ],
      "text/plain": [
       "              SPT_ID      RA_SPT    DEC_SPT  LAMBDA_CHISQ  LAMBDA_CHISQ_TARG  \\\n",
       "2   SPT-CLJ0001-5440    0.413165 -54.669517     85.264270          44.563995   \n",
       "12  SPT-CLJ2304-5718  346.108040 -57.309929     30.590437          18.264418   \n",
       "18  SPT-CLJ2311-5820  347.995480 -58.336319     33.046486          -1.000000   \n",
       "19  SPT-CLJ2312-5101  348.242120 -51.029217     41.772330          30.788752   \n",
       "20  SPT-CLJ2314-5554  348.535490 -55.901563     31.048086          19.698385   \n",
       "31  SPT-CLJ2327-5137  351.780070 -51.623137     72.221260          59.468100   \n",
       "32  SPT-CLJ2328-5533  352.178020 -55.560460     60.398660          48.591310   \n",
       "33  SPT-CLJ2329-5831  352.471240 -58.524097     64.181890          39.224754   \n",
       "55  SPT-CLJ2355-5850  358.961900 -58.846784     46.928513          30.514162   \n",
       "\n",
       "           xi     Z_SPT  MASKFRAC  \n",
       "2    9.110645  0.820000  0.007656  \n",
       "12   6.252863  0.897056  0.003537  \n",
       "18   5.469923  0.930000  0.017736  \n",
       "19   4.812294  0.350000  0.007378  \n",
       "20   4.879810  0.711617  0.009202  \n",
       "31   6.222599  0.338100  0.012916  \n",
       "32   7.876473  0.772674  0.008596  \n",
       "33  10.805716  0.719200  0.006505  \n",
       "55   4.935186  0.970000  0.005303  "
      ]
     },
     "execution_count": 22,
     "metadata": {},
     "output_type": "execute_result"
    }
   ],
   "source": [
    "mask = top_match_merge.LAMBDA_CHISQ  - top_match_merge.LAMBDA_CHISQ_TARG > 10\n",
    "top_match_merge[mask][['SPT_ID', 'RA_SPT', 'DEC_SPT', 'LAMBDA_CHISQ',  'LAMBDA_CHISQ_TARG', 'xi', 'Z_SPT', 'MASKFRAC']]\n",
    "#top_match_merge.sort_values(by='LAMBDA_CHISQ_TARG')[['SPT_ID', 'RA_SPT', 'DEC_SPT', 'LAMBDA_CHISQ',  'LAMBDA_CHISQ_TARG', 'xi', 'Z_SPT', 'MASKFRAC']]"
   ]
  },
  {
   "cell_type": "code",
   "execution_count": 23,
   "id": "01bf96c7-400e-4018-a17f-ff467d67da99",
   "metadata": {},
   "outputs": [],
   "source": [
    "import matplotlib as mpl\n",
    "from matplotlib.colors import LinearSegmentedColormap\n",
    "#Discretize the MASKFRAC\n",
    "colors = [\"darkgreen\", \"palegreen\"]\n",
    "cmap=LinearSegmentedColormap.from_list(\"\", colors)\n",
    "bounds = [0., 0.05, 0.1, 0.15, 0.2]\n",
    "norm = mpl.colors.BoundaryNorm(bounds, cmap.N)"
   ]
  },
  {
   "cell_type": "code",
   "execution_count": 24,
   "id": "673542a4-9135-41a3-b294-7848420214c6",
   "metadata": {},
   "outputs": [
    {
     "data": {
      "image/png": "[encoded data removed]",
      "text/plain": [
       "<Figure size 432x576 with 2 Axes>"
      ]
     },
     "metadata": {
      "needs_background": "light"
     },
     "output_type": "display_data"
    }
   ],
   "source": [
    "#Difference between Z_LAMBDA and Z_LAMBDA TARG\n",
    "x = np.linspace(0,2,100)\n",
    "\n",
    "f, (a0, a1) = plt.subplots(2, 1, figsize=(6,8), gridspec_kw={'height_ratios': [2.5,1]}, tight_layout=True)\n",
    "s = a0.scatter(top_match_merge.Z_LAMBDA_TARG, top_match_merge.Z_SPT, s=100, marker='x')\n",
    "a0.plot(x,x, linestyle='dashed', color='black')\n",
    "a0.set_xlabel('Z_LAMBDA_TARG'); a0.set_ylabel('Z_SPT')\n",
    "a0.set_xlim([0,1]); a0.set_ylim([0,1])\n",
    "\n",
    "#Plotting the difference \n",
    "z_diff = top_match_merge.Z_LAMBDA_TARG - top_match_merge.Z_SPT\n",
    "a1.scatter(top_match_merge.Z_LAMBDA_TARG, z_diff, s=100, marker='x')\n",
    "a1.set_xlabel('Z_LAMBDA_TARG'); a1.set_ylabel('Z_diff')\n",
    "a1.set_xlim([0,1]); a1.set_ylim([-0.03,0.03])\n",
    "a1.axhline(0, linestyle='dashed', color='black')\n",
    "#plt.savefig('targetedRM_sptpol100_topmatch_zspt_vs_zlambda_targ.png')\n",
    "\n",
    "plt.show()"
   ]
  },
  {
   "cell_type": "code",
   "execution_count": 25,
   "id": "db544b98-c0bb-4958-b870-86401116e385",
   "metadata": {},
   "outputs": [
    {
     "data": {
      "image/png": "[encoded data removed]",
      "text/plain": [
       "<Figure size 432x576 with 2 Axes>"
      ]
     },
     "metadata": {
      "needs_background": "light"
     },
     "output_type": "display_data"
    }
   ],
   "source": [
    "#Difference between Z_LAMBDA and Z_LAMBDA TARG\n",
    "x = np.linspace(0,2,100)\n",
    "\n",
    "f, (a0, a1) = plt.subplots(2, 1, figsize=(6,8), gridspec_kw={'height_ratios': [2.5,1]}, tight_layout=True)\n",
    "s = a0.scatter(top_match_merge.Z_LAMBDA_TARG, top_match_merge.Z_LAMBDA, s=100, marker='x')\n",
    "a0.plot(x,x, linestyle='dashed', color='black')\n",
    "a0.set_xlabel('Z_LAMBDA_TARG'); a0.set_ylabel('Z_LAMBDA')\n",
    "a0.set_xlim([0,1]); a0.set_ylim([0,1])\n",
    "\n",
    "#Plotting the difference \n",
    "z_diff = top_match_merge.Z_LAMBDA_TARG - top_match_merge.Z_LAMBDA\n",
    "a1.scatter(top_match_merge.Z_LAMBDA_TARG, z_diff, s=100, marker='x')\n",
    "a1.set_xlabel('Z_LAMBDA_TARG'); a1.set_ylabel('Z_diff')\n",
    "a1.set_xlim([0,1]); a1.set_ylim([-0.03,0.03])\n",
    "a1.axhline(0, linestyle='dashed', color='black')\n",
    "#plt.savefig('targetedRM_sptpol100_topmatch_zlambda_vs_zlambda_targ.png')\n",
    "\n",
    "plt.show()"
   ]
  },
  {
   "cell_type": "code",
   "execution_count": 26,
   "id": "d89e37c9-bb54-4efd-9d9b-4cef7b7a9644",
   "metadata": {},
   "outputs": [
    {
     "data": {
      "image/png": "[encoded data removed]",
      "text/plain": [
       "<Figure size 432x576 with 2 Axes>"
      ]
     },
     "metadata": {
      "needs_background": "light"
     },
     "output_type": "display_data"
    }
   ],
   "source": [
    "#Richness comparison \n",
    "x = np.linspace(0,200,100)\n",
    "\n",
    "f, (a0, a1) = plt.subplots(2, 1, figsize=(6,8), gridspec_kw={'height_ratios': [2.5,1]}, tight_layout=True)\n",
    "s = a0.scatter(top_match_merge.LAMBDA_CHISQ_TARG, top_match_merge.LAMBDA_CHISQ, s=100, marker='x')\n",
    "a0.plot(x,x, linestyle='dashed', color='black')\n",
    "a0.set_xlabel('LAMBDA_CHISQ_TARG'); a0.set_ylabel('LAMBDA_CHISQ')\n",
    "a0.set_xlim([0,150]); a0.set_ylim([0,150])\n",
    "\n",
    "#Plotting the difference \n",
    "lambda_diff = top_match_merge.LAMBDA_CHISQ_TARG - top_match_merge.LAMBDA_CHISQ\n",
    "a1.scatter(top_match_merge.LAMBDA_CHISQ_TARG, lambda_diff, s=100, marker='x')\n",
    "a1.set_xlabel('LAMBDA_CHISQ_TARG'); a1.set_ylabel('LAMBDA_diff')\n",
    "a1.axhline(0, linestyle='dashed', color='black')\n",
    "a1.set_xlim([0,150])\n",
    "\n",
    "#plt.savefig('targetedRM_sptpol100_topmatch_lambda_vs_lambda_targ.png')\n",
    "\n",
    "plt.show()"
   ]
  },
  {
   "cell_type": "code",
   "execution_count": 27,
   "id": "34472938-bb7b-4cf2-96d1-90f9ff0b0700",
   "metadata": {},
   "outputs": [
    {
     "data": {
      "image/png": "[encoded data removed]",
      "text/plain": [
       "<Figure size 432x576 with 2 Axes>"
      ]
     },
     "metadata": {
      "needs_background": "light"
     },
     "output_type": "display_data"
    }
   ],
   "source": [
    "#Masking fraction comparison\n",
    "#Richness comparison \n",
    "x = np.linspace(0,0.2,100)\n",
    "\n",
    "f, (a0, a1) = plt.subplots(2, 1, figsize=(6,8), gridspec_kw={'height_ratios': [2.5,1]}, tight_layout=True)\n",
    "s = a0.scatter(top_match_merge.MASKFRAC_TARG, top_match_merge.MASKFRAC, s=100, marker='x')\n",
    "a0.plot(x,x, linestyle='dashed', color='black')\n",
    "a0.set_xlabel('MASKFRAC_TARG'); a0.set_ylabel('MASKFRAC')\n",
    "a0.set_xlim([0,0.12]); a0.set_ylim([0,0.12])\n",
    "\n",
    "#Plotting the difference \n",
    "MASKFRAC_diff = top_match_merge.MASKFRAC_TARG - top_match_merge.MASKFRAC\n",
    "a1.scatter(top_match_merge.MASKFRAC_TARG, MASKFRAC_diff, s=100, marker='x')\n",
    "a1.set_xlabel('MASKFRAC_TARG'); a1.set_ylabel('MASKFRAC_diff')\n",
    "a1.axhline(0, linestyle='dashed', color='black')\n",
    "a1.set_xlim([0,0.12]); a1.set_ylim([-0.05,0.05])\n",
    "\n",
    "#plt.savefig('targetedRM_sptpol100_topmatch_maskfrac_vs_maskfrac_targ.png')\n",
    "plt.show()"
   ]
  },
  {
   "cell_type": "markdown",
   "id": "6852db8e-110a-4026-9d10-4d52d966aecf",
   "metadata": {},
   "source": [
    "## Testing the Z Map\n",
    "\n",
    "There are duplicate HPIX values in teh RM_zmax file. \n",
    "\n",
    "The last data entry is corrupt. \n",
    "\n",
    "            HPIX\tFRACGOOD\tZMAX\tMASKFRAC_EST\n",
    "\n",
    "22841161\t8.281250e-01\t  0.950000\t  0.00\t  NaN"
   ]
  },
  {
   "cell_type": "code",
   "execution_count": 28,
   "id": "9091cd5d-6d4c-4686-a027-d8569b4f48fc",
   "metadata": {},
   "outputs": [],
   "source": [
    "RM_zmax_file = bigdatadir + 'redMaPPer/' + 'y3_gold_2.2.1_wide_sofcol_run2_redmapper_v6.4.22+2_lgt20_vl02_vlim_zmask.csv'"
   ]
  },
  {
   "cell_type": "code",
   "execution_count": 29,
   "id": "0bef21be-05cf-4675-9156-0306e54384e2",
   "metadata": {},
   "outputs": [],
   "source": [
    "RM_zmax = pd.read_csv(RM_zmax_file)"
   ]
  },
  {
   "cell_type": "code",
   "execution_count": 43,
   "id": "efbcbf16-620e-4ef0-8f3a-07c765c02211",
   "metadata": {},
   "outputs": [
    {
     "name": "stdout",
     "output_type": "stream",
     "text": [
      "Length of file is 22841161\n",
      "After dropping duplicated length of file is 22841161\n"
     ]
    }
   ],
   "source": [
    "#Drop duplicated\n",
    "print(\"Length of file is\", len(RM_zmax)) \n",
    "RM_zmax.drop_duplicates(subset=['HPIX'], inplace=True)\n",
    "print(\"After dropping duplicated length of file is\", len(RM_zmax)) "
   ]
  },
  {
   "cell_type": "code",
   "execution_count": 44,
   "id": "7c785e07-15f5-4158-8a9e-ecc64e671b5a",
   "metadata": {},
   "outputs": [],
   "source": [
    "#Converting HPIX into integer\n",
    "RM_zmax['HPIX'] = RM_zmax['HPIX'].astype(int)"
   ]
  },
  {
   "cell_type": "code",
   "execution_count": 45,
   "id": "10c607a8-6fa3-4340-86c1-89a349f50d7f",
   "metadata": {},
   "outputs": [
    {
     "name": "stdout",
     "output_type": "stream",
     "text": [
      "Length of file is 22841161\n",
      "After removing NAN length of file is 22841161\n"
     ]
    }
   ],
   "source": [
    "# Remove NAN values\n",
    "print(\"Length of file is\", len(RM_zmax)) \n",
    "RM_zmax.dropna(inplace=True)\n",
    "print(\"After removing NAN length of file is\", len(RM_zmax)) "
   ]
  },
  {
   "cell_type": "code",
   "execution_count": 46,
   "id": "9e0d9454-7f56-4e3d-b0e0-e24ea49a2231",
   "metadata": {},
   "outputs": [
    {
     "name": "stdout",
     "output_type": "stream",
     "text": [
      "0\n"
     ]
    }
   ],
   "source": [
    "#Replace NAN values with 0\n",
    "print(RM_zmax['FRACGOOD'].isnull().sum())\n",
    "RM_zmax['FRACGOOD'] = RM_zmax['FRACGOOD'].fillna(0)"
   ]
  },
  {
   "cell_type": "code",
   "execution_count": 47,
   "id": "e6dd4461-9bec-4121-afc5-3303b00992bd",
   "metadata": {},
   "outputs": [
    {
     "data": {
      "text/html": [
       "<div>\n",
       "<style scoped>\n",
       "    .dataframe tbody tr th:only-of-type {\n",
       "        vertical-align: middle;\n",
       "    }\n",
       "\n",
       "    .dataframe tbody tr th {\n",
       "        vertical-align: top;\n",
       "    }\n",
       "\n",
       "    .dataframe thead th {\n",
       "        text-align: right;\n",
       "    }\n",
       "</style>\n",
       "<table border=\"1\" class=\"dataframe\">\n",
       "  <thead>\n",
       "    <tr style=\"text-align: right;\">\n",
       "      <th></th>\n",
       "      <th>HPIX</th>\n",
       "      <th>FRACGOOD</th>\n",
       "      <th>ZMAX</th>\n",
       "      <th>MASKFRAC_EST</th>\n",
       "    </tr>\n",
       "  </thead>\n",
       "  <tbody>\n",
       "    <tr>\n",
       "      <th>22841156</th>\n",
       "      <td>194096450</td>\n",
       "      <td>0.765625</td>\n",
       "      <td>0.472</td>\n",
       "      <td>0.0</td>\n",
       "    </tr>\n",
       "    <tr>\n",
       "      <th>22841157</th>\n",
       "      <td>194096451</td>\n",
       "      <td>0.765625</td>\n",
       "      <td>0.472</td>\n",
       "      <td>0.0</td>\n",
       "    </tr>\n",
       "    <tr>\n",
       "      <th>22841158</th>\n",
       "      <td>194096452</td>\n",
       "      <td>0.765625</td>\n",
       "      <td>0.473</td>\n",
       "      <td>0.0</td>\n",
       "    </tr>\n",
       "    <tr>\n",
       "      <th>22841159</th>\n",
       "      <td>194096453</td>\n",
       "      <td>0.765625</td>\n",
       "      <td>0.473</td>\n",
       "      <td>0.0</td>\n",
       "    </tr>\n",
       "    <tr>\n",
       "      <th>22841160</th>\n",
       "      <td>194096454</td>\n",
       "      <td>0.765625</td>\n",
       "      <td>0.474</td>\n",
       "      <td>0.0</td>\n",
       "    </tr>\n",
       "  </tbody>\n",
       "</table>\n",
       "</div>"
      ],
      "text/plain": [
       "               HPIX  FRACGOOD   ZMAX  MASKFRAC_EST\n",
       "22841156  194096450  0.765625  0.472           0.0\n",
       "22841157  194096451  0.765625  0.472           0.0\n",
       "22841158  194096452  0.765625  0.473           0.0\n",
       "22841159  194096453  0.765625  0.473           0.0\n",
       "22841160  194096454  0.765625  0.474           0.0"
      ]
     },
     "execution_count": 47,
     "metadata": {},
     "output_type": "execute_result"
    }
   ],
   "source": [
    "RM_zmax.tail()"
   ]
  },
  {
   "cell_type": "code",
   "execution_count": 48,
   "id": "50c7a161-3db5-463a-ad48-e47ff27be323",
   "metadata": {},
   "outputs": [],
   "source": [
    "topmatch_pix=hp.ang2pix(4096, top_match.RA_SPT.values, top_match.DEC_SPT.values, lonlat=True)\n",
    "nomatch_pix =hp.ang2pix(4096, no_match.RA_SPT.values, no_match.DEC_SPT.values, lonlat=True)"
   ]
  },
  {
   "cell_type": "code",
   "execution_count": 49,
   "id": "d7893b30-2f77-48da-97d7-2a0a4ad1bacb",
   "metadata": {},
   "outputs": [],
   "source": [
    "top_match['HPIX'] = topmatch_pix\n",
    "no_match['HPIX'] = nomatch_pix"
   ]
  },
  {
   "cell_type": "code",
   "execution_count": 50,
   "id": "621e7be8-9943-4eac-83c8-57c22408737a",
   "metadata": {},
   "outputs": [
    {
     "data": {
      "text/html": [
       "<div>\n",
       "<style scoped>\n",
       "    .dataframe tbody tr th:only-of-type {\n",
       "        vertical-align: middle;\n",
       "    }\n",
       "\n",
       "    .dataframe tbody tr th {\n",
       "        vertical-align: top;\n",
       "    }\n",
       "\n",
       "    .dataframe thead th {\n",
       "        text-align: right;\n",
       "    }\n",
       "</style>\n",
       "<table border=\"1\" class=\"dataframe\">\n",
       "  <thead>\n",
       "    <tr style=\"text-align: right;\">\n",
       "      <th></th>\n",
       "      <th>SPT_ID</th>\n",
       "      <th>RA_SPT</th>\n",
       "      <th>DEC_SPT</th>\n",
       "      <th>xi</th>\n",
       "      <th>theta_core</th>\n",
       "      <th>Z_SPT</th>\n",
       "      <th>redshift_unc</th>\n",
       "      <th>M500</th>\n",
       "      <th>M500_lerr</th>\n",
       "      <th>M500_uerr</th>\n",
       "      <th>...</th>\n",
       "      <th>Z_LAMBDA_RAW</th>\n",
       "      <th>Z_LAMBDA_E_RAW</th>\n",
       "      <th>LIM_EXPTIME</th>\n",
       "      <th>LIM_LIMMAG_DERED</th>\n",
       "      <th>LIM_LIMMAG</th>\n",
       "      <th>LIM_LIMMAG_HARD</th>\n",
       "      <th>MASKGAL_INDEX</th>\n",
       "      <th>propD_sep</th>\n",
       "      <th>Delta_Z</th>\n",
       "      <th>HPIX</th>\n",
       "    </tr>\n",
       "  </thead>\n",
       "  <tbody>\n",
       "    <tr>\n",
       "      <th>0</th>\n",
       "      <td>SPT-CLJ0000-5748</td>\n",
       "      <td>0.247868</td>\n",
       "      <td>-57.808061</td>\n",
       "      <td>14.644361</td>\n",
       "      <td>0.25</td>\n",
       "      <td>0.701900</td>\n",
       "      <td>0.000000</td>\n",
       "      <td>4.721501</td>\n",
       "      <td>-0.589862</td>\n",
       "      <td>0.503771</td>\n",
       "      <td>...</td>\n",
       "      <td>0.694805</td>\n",
       "      <td>0.008859</td>\n",
       "      <td>0.236266</td>\n",
       "      <td>22.345320</td>\n",
       "      <td>22.345320</td>\n",
       "      <td>23.559084</td>\n",
       "      <td>5.0</td>\n",
       "      <td>45.5383</td>\n",
       "      <td>-0.0113351</td>\n",
       "      <td>185853115</td>\n",
       "    </tr>\n",
       "    <tr>\n",
       "      <th>1</th>\n",
       "      <td>SPT-CLJ0000-6020</td>\n",
       "      <td>0.032286</td>\n",
       "      <td>-60.340474</td>\n",
       "      <td>7.183841</td>\n",
       "      <td>0.50</td>\n",
       "      <td>0.761757</td>\n",
       "      <td>0.048809</td>\n",
       "      <td>2.900750</td>\n",
       "      <td>-0.455428</td>\n",
       "      <td>0.385271</td>\n",
       "      <td>...</td>\n",
       "      <td>0.740317</td>\n",
       "      <td>0.015197</td>\n",
       "      <td>0.161187</td>\n",
       "      <td>22.056208</td>\n",
       "      <td>22.056208</td>\n",
       "      <td>23.559084</td>\n",
       "      <td>35.0</td>\n",
       "      <td>71.5065</td>\n",
       "      <td>-0.011634</td>\n",
       "      <td>188132208</td>\n",
       "    </tr>\n",
       "    <tr>\n",
       "      <th>2</th>\n",
       "      <td>SPT-CLJ0001-5440</td>\n",
       "      <td>0.413165</td>\n",
       "      <td>-54.669517</td>\n",
       "      <td>9.110645</td>\n",
       "      <td>0.50</td>\n",
       "      <td>0.820000</td>\n",
       "      <td>0.081900</td>\n",
       "      <td>3.368699</td>\n",
       "      <td>-0.478318</td>\n",
       "      <td>0.397177</td>\n",
       "      <td>...</td>\n",
       "      <td>0.885844</td>\n",
       "      <td>0.005302</td>\n",
       "      <td>0.257202</td>\n",
       "      <td>22.409510</td>\n",
       "      <td>22.409510</td>\n",
       "      <td>23.559084</td>\n",
       "      <td>25.0</td>\n",
       "      <td>113.17</td>\n",
       "      <td>0.0872212</td>\n",
       "      <td>182788645</td>\n",
       "    </tr>\n",
       "    <tr>\n",
       "      <th>3</th>\n",
       "      <td>SPT-CLJ0001-5614</td>\n",
       "      <td>0.486184</td>\n",
       "      <td>-56.240999</td>\n",
       "      <td>5.414786</td>\n",
       "      <td>0.25</td>\n",
       "      <td>0.428054</td>\n",
       "      <td>0.036073</td>\n",
       "      <td>2.554641</td>\n",
       "      <td>-0.455476</td>\n",
       "      <td>0.445880</td>\n",
       "      <td>...</td>\n",
       "      <td>0.400818</td>\n",
       "      <td>0.007054</td>\n",
       "      <td>0.276923</td>\n",
       "      <td>22.465366</td>\n",
       "      <td>22.465366</td>\n",
       "      <td>23.559084</td>\n",
       "      <td>23.0</td>\n",
       "      <td>62.3842</td>\n",
       "      <td>-0.0211368</td>\n",
       "      <td>184349643</td>\n",
       "    </tr>\n",
       "    <tr>\n",
       "      <th>8</th>\n",
       "      <td>SPT-CLJ2259-5349</td>\n",
       "      <td>344.794070</td>\n",
       "      <td>-53.823576</td>\n",
       "      <td>7.174465</td>\n",
       "      <td>0.25</td>\n",
       "      <td>0.257540</td>\n",
       "      <td>0.022577</td>\n",
       "      <td>3.282470</td>\n",
       "      <td>-0.515476</td>\n",
       "      <td>0.437596</td>\n",
       "      <td>...</td>\n",
       "      <td>0.269425</td>\n",
       "      <td>0.004520</td>\n",
       "      <td>0.343176</td>\n",
       "      <td>22.627544</td>\n",
       "      <td>22.627544</td>\n",
       "      <td>23.559084</td>\n",
       "      <td>69.0</td>\n",
       "      <td>64.805</td>\n",
       "      <td>0.0124983</td>\n",
       "      <td>181925845</td>\n",
       "    </tr>\n",
       "  </tbody>\n",
       "</table>\n",
       "<p>5 rows × 85 columns</p>\n",
       "</div>"
      ],
      "text/plain": [
       "             SPT_ID      RA_SPT    DEC_SPT         xi  theta_core     Z_SPT  \\\n",
       "0  SPT-CLJ0000-5748    0.247868 -57.808061  14.644361        0.25  0.701900   \n",
       "1  SPT-CLJ0000-6020    0.032286 -60.340474   7.183841        0.50  0.761757   \n",
       "2  SPT-CLJ0001-5440    0.413165 -54.669517   9.110645        0.50  0.820000   \n",
       "3  SPT-CLJ0001-5614    0.486184 -56.240999   5.414786        0.25  0.428054   \n",
       "8  SPT-CLJ2259-5349  344.794070 -53.823576   7.174465        0.25  0.257540   \n",
       "\n",
       "   redshift_unc      M500  M500_lerr  M500_uerr  ...  Z_LAMBDA_RAW  \\\n",
       "0      0.000000  4.721501  -0.589862   0.503771  ...      0.694805   \n",
       "1      0.048809  2.900750  -0.455428   0.385271  ...      0.740317   \n",
       "2      0.081900  3.368699  -0.478318   0.397177  ...      0.885844   \n",
       "3      0.036073  2.554641  -0.455476   0.445880  ...      0.400818   \n",
       "8      0.022577  3.282470  -0.515476   0.437596  ...      0.269425   \n",
       "\n",
       "   Z_LAMBDA_E_RAW LIM_EXPTIME  LIM_LIMMAG_DERED  LIM_LIMMAG  LIM_LIMMAG_HARD  \\\n",
       "0        0.008859    0.236266         22.345320   22.345320        23.559084   \n",
       "1        0.015197    0.161187         22.056208   22.056208        23.559084   \n",
       "2        0.005302    0.257202         22.409510   22.409510        23.559084   \n",
       "3        0.007054    0.276923         22.465366   22.465366        23.559084   \n",
       "8        0.004520    0.343176         22.627544   22.627544        23.559084   \n",
       "\n",
       "  MASKGAL_INDEX propD_sep    Delta_Z       HPIX  \n",
       "0           5.0   45.5383 -0.0113351  185853115  \n",
       "1          35.0   71.5065  -0.011634  188132208  \n",
       "2          25.0    113.17  0.0872212  182788645  \n",
       "3          23.0   62.3842 -0.0211368  184349643  \n",
       "8          69.0    64.805  0.0124983  181925845  \n",
       "\n",
       "[5 rows x 85 columns]"
      ]
     },
     "execution_count": 50,
     "metadata": {},
     "output_type": "execute_result"
    }
   ],
   "source": [
    "top_match.head()"
   ]
  },
  {
   "cell_type": "code",
   "execution_count": 51,
   "id": "19195b84-2a08-4bd5-9165-701064d0105f",
   "metadata": {},
   "outputs": [],
   "source": [
    "RM_zmax_topmatch = RM_zmax[RM_zmax.HPIX.isin(topmatch_pix)]\n",
    "RM_zmax_nomatch = RM_zmax[RM_zmax.HPIX.isin(nomatch_pix)]"
   ]
  },
  {
   "cell_type": "code",
   "execution_count": 52,
   "id": "1d658eaa-f91c-46fd-91b1-a9e8c5f19a02",
   "metadata": {},
   "outputs": [],
   "source": [
    "top_match_zmax = pd.merge(left=top_match, right=RM_zmax_topmatch, how='left', left_on='HPIX', right_on='HPIX')\n",
    "no_match_zmax = pd.merge(left=no_match, right=RM_zmax_nomatch, how='left', left_on='HPIX', right_on='HPIX')"
   ]
  },
  {
   "cell_type": "code",
   "execution_count": 53,
   "id": "ee17cc87-1df3-4082-9ecf-f15139a50338",
   "metadata": {},
   "outputs": [
    {
     "name": "stdout",
     "output_type": "stream",
     "text": [
      "5\n",
      "0\n"
     ]
    }
   ],
   "source": [
    "## Find NAN values. Indicates No matches\n",
    "print(no_match_zmax['FRACGOOD'].isnull().sum())\n",
    "no_match_zmax['FRACGOOD'] = no_match_zmax['FRACGOOD'].fillna(0)\n",
    "\n",
    "print(top_match_zmax['FRACGOOD'].isnull().sum())\n",
    "top_match_zmax['FRACGOOD'] = top_match_zmax['FRACGOOD'].fillna(0)"
   ]
  },
  {
   "cell_type": "code",
   "execution_count": 54,
   "id": "24e230bb-c8ea-4fb7-971e-791566824556",
   "metadata": {},
   "outputs": [
    {
     "data": {
      "text/html": [
       "<div>\n",
       "<style scoped>\n",
       "    .dataframe tbody tr th:only-of-type {\n",
       "        vertical-align: middle;\n",
       "    }\n",
       "\n",
       "    .dataframe tbody tr th {\n",
       "        vertical-align: top;\n",
       "    }\n",
       "\n",
       "    .dataframe thead th {\n",
       "        text-align: right;\n",
       "    }\n",
       "</style>\n",
       "<table border=\"1\" class=\"dataframe\">\n",
       "  <thead>\n",
       "    <tr style=\"text-align: right;\">\n",
       "      <th></th>\n",
       "      <th>SPT_ID</th>\n",
       "      <th>RA_SPT</th>\n",
       "      <th>DEC_SPT</th>\n",
       "      <th>xi</th>\n",
       "      <th>theta_core</th>\n",
       "      <th>Z_SPT</th>\n",
       "      <th>redshift_unc</th>\n",
       "      <th>M500</th>\n",
       "      <th>M500_lerr</th>\n",
       "      <th>M500_uerr</th>\n",
       "      <th>imaging</th>\n",
       "      <th>P_blank</th>\n",
       "      <th>FIELD</th>\n",
       "      <th>HPIX</th>\n",
       "      <th>FRACGOOD</th>\n",
       "      <th>ZMAX</th>\n",
       "      <th>MASKFRAC_EST</th>\n",
       "    </tr>\n",
       "  </thead>\n",
       "  <tbody>\n",
       "    <tr>\n",
       "      <th>0</th>\n",
       "      <td>SPT-CLJ0002-5017</td>\n",
       "      <td>0.651454</td>\n",
       "      <td>-50.288932</td>\n",
       "      <td>5.447203</td>\n",
       "      <td>0.25</td>\n",
       "      <td>0.901207</td>\n",
       "      <td>0.033271</td>\n",
       "      <td>2.250910</td>\n",
       "      <td>-0.408256</td>\n",
       "      <td>0.402219</td>\n",
       "      <td>1</td>\n",
       "      <td>-1.0000</td>\n",
       "      <td>SPTPOL_100d</td>\n",
       "      <td>178090872</td>\n",
       "      <td>0.953125</td>\n",
       "      <td>0.679</td>\n",
       "      <td>0.0</td>\n",
       "    </tr>\n",
       "    <tr>\n",
       "      <th>1</th>\n",
       "      <td>SPT-CLJ0002-5557</td>\n",
       "      <td>0.504762</td>\n",
       "      <td>-55.962350</td>\n",
       "      <td>7.217852</td>\n",
       "      <td>0.75</td>\n",
       "      <td>1.150000</td>\n",
       "      <td>0.096750</td>\n",
       "      <td>2.624150</td>\n",
       "      <td>-0.411177</td>\n",
       "      <td>0.355996</td>\n",
       "      <td>3</td>\n",
       "      <td>0.0165</td>\n",
       "      <td>SPTPOL_100d</td>\n",
       "      <td>184068796</td>\n",
       "      <td>1.000000</td>\n",
       "      <td>0.810</td>\n",
       "      <td>0.0</td>\n",
       "    </tr>\n",
       "    <tr>\n",
       "      <th>2</th>\n",
       "      <td>SPT-CLJ2259-5301</td>\n",
       "      <td>344.828450</td>\n",
       "      <td>-53.030793</td>\n",
       "      <td>5.079853</td>\n",
       "      <td>0.25</td>\n",
       "      <td>1.160000</td>\n",
       "      <td>0.093841</td>\n",
       "      <td>1.983135</td>\n",
       "      <td>-0.407509</td>\n",
       "      <td>0.344885</td>\n",
       "      <td>3</td>\n",
       "      <td>0.0137</td>\n",
       "      <td>SPTPOL_100d</td>\n",
       "      <td>181094895</td>\n",
       "      <td>0.000000</td>\n",
       "      <td>NaN</td>\n",
       "      <td>NaN</td>\n",
       "    </tr>\n",
       "    <tr>\n",
       "      <th>3</th>\n",
       "      <td>SPT-CLJ2306-5120</td>\n",
       "      <td>346.612080</td>\n",
       "      <td>-51.346487</td>\n",
       "      <td>8.112616</td>\n",
       "      <td>0.50</td>\n",
       "      <td>1.260000</td>\n",
       "      <td>0.101700</td>\n",
       "      <td>2.784230</td>\n",
       "      <td>-0.400282</td>\n",
       "      <td>0.360797</td>\n",
       "      <td>3</td>\n",
       "      <td>0.0014</td>\n",
       "      <td>SPTPOL_100d</td>\n",
       "      <td>179287938</td>\n",
       "      <td>1.000000</td>\n",
       "      <td>0.719</td>\n",
       "      <td>0.0</td>\n",
       "    </tr>\n",
       "    <tr>\n",
       "      <th>4</th>\n",
       "      <td>SPT-CLJ2310-5919</td>\n",
       "      <td>347.569560</td>\n",
       "      <td>-59.320252</td>\n",
       "      <td>6.119353</td>\n",
       "      <td>0.25</td>\n",
       "      <td>0.768477</td>\n",
       "      <td>0.048606</td>\n",
       "      <td>2.559710</td>\n",
       "      <td>-0.444273</td>\n",
       "      <td>0.401701</td>\n",
       "      <td>3</td>\n",
       "      <td>0.0197</td>\n",
       "      <td>SPTPOL_100d</td>\n",
       "      <td>187244101</td>\n",
       "      <td>0.000000</td>\n",
       "      <td>NaN</td>\n",
       "      <td>NaN</td>\n",
       "    </tr>\n",
       "  </tbody>\n",
       "</table>\n",
       "</div>"
      ],
      "text/plain": [
       "             SPT_ID      RA_SPT    DEC_SPT        xi  theta_core     Z_SPT  \\\n",
       "0  SPT-CLJ0002-5017    0.651454 -50.288932  5.447203        0.25  0.901207   \n",
       "1  SPT-CLJ0002-5557    0.504762 -55.962350  7.217852        0.75  1.150000   \n",
       "2  SPT-CLJ2259-5301  344.828450 -53.030793  5.079853        0.25  1.160000   \n",
       "3  SPT-CLJ2306-5120  346.612080 -51.346487  8.112616        0.50  1.260000   \n",
       "4  SPT-CLJ2310-5919  347.569560 -59.320252  6.119353        0.25  0.768477   \n",
       "\n",
       "   redshift_unc      M500  M500_lerr  M500_uerr  imaging  P_blank  \\\n",
       "0      0.033271  2.250910  -0.408256   0.402219        1  -1.0000   \n",
       "1      0.096750  2.624150  -0.411177   0.355996        3   0.0165   \n",
       "2      0.093841  1.983135  -0.407509   0.344885        3   0.0137   \n",
       "3      0.101700  2.784230  -0.400282   0.360797        3   0.0014   \n",
       "4      0.048606  2.559710  -0.444273   0.401701        3   0.0197   \n",
       "\n",
       "         FIELD       HPIX  FRACGOOD   ZMAX  MASKFRAC_EST  \n",
       "0  SPTPOL_100d  178090872  0.953125  0.679           0.0  \n",
       "1  SPTPOL_100d  184068796  1.000000  0.810           0.0  \n",
       "2  SPTPOL_100d  181094895  0.000000    NaN           NaN  \n",
       "3  SPTPOL_100d  179287938  1.000000  0.719           0.0  \n",
       "4  SPTPOL_100d  187244101  0.000000    NaN           NaN  "
      ]
     },
     "execution_count": 54,
     "metadata": {},
     "output_type": "execute_result"
    }
   ],
   "source": [
    "no_match_zmax.head()"
   ]
  },
  {
   "cell_type": "code",
   "execution_count": 55,
   "id": "6a17b79a-953f-418f-b5d2-c8a8ee856a70",
   "metadata": {},
   "outputs": [
    {
     "data": {
      "text/plain": [
       "Text(0.5, 1.0, 'N = 59/79')"
      ]
     },
     "execution_count": 55,
     "metadata": {},
     "output_type": "execute_result"
    },
    {
     "data": {
      "image/png": "[encoded data removed]",
      "text/plain": [
       "<Figure size 432x288 with 1 Axes>"
      ]
     },
     "metadata": {
      "needs_background": "light"
     },
     "output_type": "display_data"
    }
   ],
   "source": [
    "top_match_zmax.hist(column='FRACGOOD')\n",
    "plt.xlabel('FRACGOOD'); plt.ylabel('Frequency')\n",
    "plt.title('N = {:d}/{:d}'.format(len(top_match), len(no_match)+len(top_match)))\n",
    "#plt.savefig('plots/topmatch_fracgood.png')"
   ]
  },
  {
   "cell_type": "code",
   "execution_count": 56,
   "id": "deaf01b8-05e0-4d0d-8363-19a733005841",
   "metadata": {},
   "outputs": [
    {
     "data": {
      "text/plain": [
       "Text(0.5, 1.0, 'N = 20/79')"
      ]
     },
     "execution_count": 56,
     "metadata": {},
     "output_type": "execute_result"
    },
    {
     "data": {
      "image/png": "[encoded data removed]",
      "text/plain": [
       "<Figure size 432x288 with 1 Axes>"
      ]
     },
     "metadata": {
      "needs_background": "light"
     },
     "output_type": "display_data"
    }
   ],
   "source": [
    "no_match_zmax.hist(column='FRACGOOD')\n",
    "plt.xlabel('FRACGOOD'); plt.ylabel('Frequency')\n",
    "plt.title('N = {:d}/{:d}'.format(len(no_match), len(no_match)+len(top_match)))\n",
    "#plt.savefig('plots/nomatch_fracgood.png')"
   ]
  },
  {
   "cell_type": "code",
   "execution_count": 57,
   "id": "ea17cb74-90a4-4df0-87fc-ef75dcdb0a14",
   "metadata": {},
   "outputs": [],
   "source": [
    "## Test the 5 cluster locations with NO FRACGOOD location. \n",
    "import healpy as hp\n",
    "des_map = hp.pix2ang(nside=4096, ipix=RM_zmax.HPIX.values, nest=False, lonlat=True)"
   ]
  },
  {
   "cell_type": "code",
   "execution_count": 62,
   "id": "e30b81c9-8a83-46f4-a4b3-cc59b33d198b",
   "metadata": {},
   "outputs": [
    {
     "data": {
      "text/html": [
       "<div>\n",
       "<style scoped>\n",
       "    .dataframe tbody tr th:only-of-type {\n",
       "        vertical-align: middle;\n",
       "    }\n",
       "\n",
       "    .dataframe tbody tr th {\n",
       "        vertical-align: top;\n",
       "    }\n",
       "\n",
       "    .dataframe thead th {\n",
       "        text-align: right;\n",
       "    }\n",
       "</style>\n",
       "<table border=\"1\" class=\"dataframe\">\n",
       "  <thead>\n",
       "    <tr style=\"text-align: right;\">\n",
       "      <th></th>\n",
       "      <th>SPT_ID</th>\n",
       "      <th>RA_SPT</th>\n",
       "      <th>DEC_SPT</th>\n",
       "      <th>xi</th>\n",
       "      <th>Z_SPT</th>\n",
       "    </tr>\n",
       "  </thead>\n",
       "  <tbody>\n",
       "    <tr>\n",
       "      <th>2</th>\n",
       "      <td>SPT-CLJ2259-5301</td>\n",
       "      <td>344.82845</td>\n",
       "      <td>-53.030793</td>\n",
       "      <td>5.079853</td>\n",
       "      <td>1.160000</td>\n",
       "    </tr>\n",
       "    <tr>\n",
       "      <th>4</th>\n",
       "      <td>SPT-CLJ2310-5919</td>\n",
       "      <td>347.56956</td>\n",
       "      <td>-59.320252</td>\n",
       "      <td>6.119353</td>\n",
       "      <td>0.768477</td>\n",
       "    </tr>\n",
       "    <tr>\n",
       "      <th>7</th>\n",
       "      <td>SPT-CLJ2320-5807</td>\n",
       "      <td>350.06938</td>\n",
       "      <td>-58.131121</td>\n",
       "      <td>5.796733</td>\n",
       "      <td>0.562172</td>\n",
       "    </tr>\n",
       "    <tr>\n",
       "      <th>9</th>\n",
       "      <td>SPT-CLJ2328-5550</td>\n",
       "      <td>352.03835</td>\n",
       "      <td>-55.846609</td>\n",
       "      <td>4.651302</td>\n",
       "      <td>0.770000</td>\n",
       "    </tr>\n",
       "    <tr>\n",
       "      <th>15</th>\n",
       "      <td>SPT-CLJ2341-5640</td>\n",
       "      <td>355.45347</td>\n",
       "      <td>-56.667843</td>\n",
       "      <td>5.934129</td>\n",
       "      <td>0.480004</td>\n",
       "    </tr>\n",
       "  </tbody>\n",
       "</table>\n",
       "</div>"
      ],
      "text/plain": [
       "              SPT_ID     RA_SPT    DEC_SPT        xi     Z_SPT\n",
       "2   SPT-CLJ2259-5301  344.82845 -53.030793  5.079853  1.160000\n",
       "4   SPT-CLJ2310-5919  347.56956 -59.320252  6.119353  0.768477\n",
       "7   SPT-CLJ2320-5807  350.06938 -58.131121  5.796733  0.562172\n",
       "9   SPT-CLJ2328-5550  352.03835 -55.846609  4.651302  0.770000\n",
       "15  SPT-CLJ2341-5640  355.45347 -56.667843  5.934129  0.480004"
      ]
     },
     "execution_count": 62,
     "metadata": {},
     "output_type": "execute_result"
    }
   ],
   "source": [
    "no_match_null = no_match_zmax[no_match_zmax['FRACGOOD'] == 0]\n",
    "no_match_null[['SPT_ID', 'RA_SPT', 'DEC_SPT', 'xi', 'Z_SPT']]"
   ]
  },
  {
   "cell_type": "code",
   "execution_count": null,
   "id": "b254d89a-0221-45c3-967e-0d3995a80780",
   "metadata": {},
   "outputs": [],
   "source": [
    "plt.scatter(des_map[0][::1000], des_map[1][::1000], label = 'DES Y3 map')\n",
    "plt.scatter(no_match_null.RA_SPT.values, no_match_null.DEC_SPT.values, label='No NPIX match')\n",
    "plt.legend()\n",
    "#plt.savefig('plots/no_npix_match.png')\n",
    "plt.show()"
   ]
  },
  {
   "cell_type": "markdown",
   "id": "c7798878-ef69-43fc-869b-8733c5bfbfda",
   "metadata": {},
   "source": [
    "#### Comparision of Z vs ZMax"
   ]
  },
  {
   "cell_type": "code",
   "execution_count": null,
   "id": "d9d2f8d5-1c8c-489b-8515-fb0e172bcf6c",
   "metadata": {},
   "outputs": [],
   "source": [
    "x = np.linspace(0,1,100)\n",
    "top_match_zmax.plot(x='Z_SPT', y='ZMAX' ,kind='scatter')\n",
    "plt.plot(x,x,linestyle='dashed', color='black')\n",
    "plt.title('Matched clusters')\n",
    "#plt.savefig('plots/z_vs_zmax_topmatch_sptpol100.png')"
   ]
  },
  {
   "cell_type": "code",
   "execution_count": null,
   "id": "b82c175a-7fc4-4179-8e71-4fc1e383924d",
   "metadata": {},
   "outputs": [],
   "source": [
    "x = np.linspace(0,1.5,100)\n",
    "no_match_zmax.plot(x='Z_SPT', y='ZMAX' ,kind='scatter')\n",
    "plt.plot(x,x,linestyle='dashed', color='black')\n",
    "plt.title('No match clusters')\n",
    "#plt.savefig('plots/z_vs_zmax_nomatch_sptpol100.png')"
   ]
  },
  {
   "cell_type": "code",
   "execution_count": null,
   "id": "c69dadf4-61db-46dc-b006-1d45d8b6d95e",
   "metadata": {},
   "outputs": [],
   "source": []
  }
 ],
 "metadata": {
  "kernelspec": {
   "display_name": "CleanEnv",
   "language": "python",
   "name": "cleanenv"
  },
  "language_info": {
   "codemirror_mode": {
    "name": "ipython",
    "version": 3
   },
   "file_extension": ".py",
   "mimetype": "text/x-python",
   "name": "python",
   "nbconvert_exporter": "python",
   "pygments_lexer": "ipython3",
   "version": "3.6.13"
  }
 },
 "nbformat": 4,
 "nbformat_minor": 5
}
