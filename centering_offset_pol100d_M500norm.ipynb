{
 "cells": [
  {
   "cell_type": "code",
   "execution_count": 2,
   "id": "583e91dc-5820-44d2-bff1-5383a237e60c",
   "metadata": {},
   "outputs": [],
   "source": [
    "import matplotlib.pyplot as plt\n",
    "import matplotlib.ticker as ticker\n",
    "import seaborn as sns\n",
    "\n",
    "from glob import glob\n",
    "import numpy as np\n",
    "import healpy as hp\n",
    "import struct\n",
    "\n",
    "import setup\n",
    "from astropy.table import Table\n",
    "#Coordinate\n",
    "from astropy.coordinates import SkyCoord\n",
    "from astropy import units as u\n",
    "from astropy.cosmology import WMAP9 as cosmo\n",
    "from astropy.coordinates import SkyCoord\n",
    "from astropy.io import fits\n",
    "\n",
    "import pandas as pd\n",
    "from tqdm import tqdm\n",
    "import math\n",
    "\n",
    "import pickle\n",
    "from matched_clusters import matched_clusters\n",
    "from matched_clusters_plot import *\n",
    "\n",
    "from astropy.table import Table\n",
    "import emcee\n",
    "import pygtc\n"
   ]
  },
  {
   "cell_type": "code",
   "execution_count": 64,
   "id": "19712d85-7755-4c02-b7cf-58d0a96f00d4",
   "metadata": {},
   "outputs": [],
   "source": [
    "import pickle\n",
    "## Read the saved matched clusters. \n",
    "matched_pkl = 'output/' + 'matched_pol100_lgt5_vl50_dsep1000_deltaz0.1.pkl'\n",
    "\n",
    "with open(matched_pkl, 'rb') as inp:\n",
    "    matched_cl = pickle.load(inp)"
   ]
  },
  {
   "cell_type": "code",
   "execution_count": 65,
   "id": "10d6697b-4cdf-449c-81b2-03e492c94769",
   "metadata": {},
   "outputs": [],
   "source": [
    "top_match_df = matched_cl.get_match_top_df()"
   ]
  },
  {
   "cell_type": "code",
   "execution_count": 66,
   "id": "b406fcda-b209-4af0-b562-0ec581a526a1",
   "metadata": {},
   "outputs": [
    {
     "data": {
      "text/plain": [
       "Index(['SPT_ID', 'RA_SPT', 'DEC_SPT', 'xi', 'theta_core', 'Z_SPT',\n",
       "       'redshift_unc', 'M500', 'M500_lerr', 'M500_uerr', 'imaging', 'P_blank',\n",
       "       'FIELD', 'MEM_MATCH_ID', 'RA_REDM', 'DEC_REDM', 'MODEL_MAG',\n",
       "       'MODEL_MAGERR', 'REFMAG', 'REFMAG_ERR', 'ZRED', 'ZRED_E', 'ZRED_CHISQ',\n",
       "       'BCG_SPEC_Z', 'Z_SPEC_INIT', 'Z_INIT', 'Z_REDM', 'LAMBDA_CHISQ',\n",
       "       'LAMBDA_CHISQ_E', 'LAMBDA_ZRED', 'LAMBDA_ZRED_E', 'R_LAMBDA',\n",
       "       'SCALEVAL', 'MASKFRAC', 'GEOMASKFRAC', 'C_LAMBDA', 'C_LAMBDA_ERR',\n",
       "       'MAG_LAMBDA_ERR', 'CHISQ', 'Z_LAMBDA', 'Z_LAMBDA_E', 'Z_LAMBDA_NITER',\n",
       "       'EBV_MEAN', 'LNLAMLIKE', 'LNBCGLIKE', 'LNLIKE', 'PZBINS', 'PZ',\n",
       "       'NCROSS', 'RMASK', 'RA_ORIG', 'DEC_ORIG', 'W', 'DLAMBDA_DZ',\n",
       "       'DLAMBDA_DZ2', 'DLAMBDAVAR_DZ', 'DLAMBDAVAR_DZ2', 'LAMBDA_CHISQ_C',\n",
       "       'LAMBDA_CHISQ_CE', 'NCENT', 'NCENT_GOOD', 'RA_CENT', 'DEC_CENT',\n",
       "       'ID_CENT', 'LAMBDA_CHISQ_CENT', 'ZLAMBDA_CENT', 'P_BCG', 'P_CEN',\n",
       "       'Q_CEN', 'P_FG', 'Q_MISS', 'P_SAT', 'P_C', 'BCG_ILUM', 'ILUM',\n",
       "       'Z_LAMBDA_RAW', 'Z_LAMBDA_E_RAW', 'LIM_EXPTIME', 'LIM_LIMMAG_DERED',\n",
       "       'LIM_LIMMAG', 'LIM_LIMMAG_HARD', 'MASKGAL_INDEX', 'propD_sep',\n",
       "       'Delta_Z'],\n",
       "      dtype='object')"
      ]
     },
     "execution_count": 66,
     "metadata": {},
     "output_type": "execute_result"
    }
   ],
   "source": [
    "top_match_df.columns"
   ]
  },
  {
   "cell_type": "markdown",
   "id": "87ae3d1a-7a3e-40a9-a61d-5aae556db634",
   "metadata": {},
   "source": [
    "## Extract parameters \n",
    "\n",
    "Quantities needed:\n",
    "* Z_SPT, \n",
    "* xi\n",
    "* theta_core\n",
    "* M500c\n",
    "* beam = 1.3, given \n",
    "* propD_sep\n",
    "\n",
    "Derived quantities include:\n",
    "* R500c\n",
    "* theta_500\n",
    "* x_offset"
   ]
  },
  {
   "cell_type": "code",
   "execution_count": 67,
   "id": "4ba509d1-eb91-497b-b9a0-1619268406d5",
   "metadata": {},
   "outputs": [],
   "source": [
    "## converting from M500c to R500c\n",
    "def Mdelta_to_Rdelta(M_delta, redshift, delta=500, omega_m=0.3089, omega_l=0.6911, omega_b = 0.0486, hubble=0.6774 ):\n",
    "    aexp = 1./(1.+redshift)\n",
    "    Ez = np.sqrt(omega_m/aexp**3.0+omega_l)\n",
    "    fb = omega_b/omega_m\n",
    "    mu = 0.59\n",
    "    mue = 1.14\n",
    "    delta = float(delta)\n",
    "    erg_to_keV = 624150647.99632\n",
    "\n",
    "    # critical density of the Universe in Msun/Mpc^3\n",
    "    rho_crit = (2.77536627e11)*(hubble*Ez)**2.0\n",
    "    rhohalo = delta * rho_crit # in Msun Mpc^-3\n",
    "    \n",
    "    r_delta = (M_delta/(rhohalo)*3/(4*np.pi))**(1/3.)\n",
    "    return r_delta"
   ]
  },
  {
   "cell_type": "code",
   "execution_count": 68,
   "id": "d46ed943-1af7-4829-803c-f593c7d92fcf",
   "metadata": {},
   "outputs": [],
   "source": [
    "##Convert radius to angle\n",
    "from astropy.cosmology import FlatLambdaCDM\n",
    "cosmo = FlatLambdaCDM(H0=70, Om0=0.3)\n",
    "#cosmo.arcsec_per_kpc_proper(0.5).value"
   ]
  },
  {
   "cell_type": "code",
   "execution_count": 69,
   "id": "4eec40a5-7fa8-473a-aaee-f174ca226393",
   "metadata": {},
   "outputs": [],
   "source": [
    "beam = 1.3 "
   ]
  },
  {
   "cell_type": "code",
   "execution_count": 70,
   "id": "7bec2604-025f-459a-b3ab-66e1c3c9e5a4",
   "metadata": {},
   "outputs": [],
   "source": [
    "## Obtain R500c\n",
    "top_match_df['R500c'] = Mdelta_to_Rdelta(top_match_df['M500']*1e14, top_match_df['Z_SPT'])"
   ]
  },
  {
   "cell_type": "code",
   "execution_count": 71,
   "id": "43a58d0b-8f39-4df0-b1fc-c2d842157c3a",
   "metadata": {},
   "outputs": [],
   "source": [
    "## Obtain theta_500\n",
    "theta_500 = cosmo.arcsec_per_kpc_proper(top_match_df['Z_SPT']).value*top_match_df['R500c']*1000/60 #Convert from kpc2Mpc, from arcsec to arcmin"
   ]
  },
  {
   "cell_type": "code",
   "execution_count": 72,
   "id": "beede043-387c-4c35-902f-b738d46a0cee",
   "metadata": {},
   "outputs": [],
   "source": [
    "top_match_df['theta_500'] = theta_500"
   ]
  },
  {
   "cell_type": "code",
   "execution_count": 73,
   "id": "1afd2d2c-814c-405b-8c1b-b78f35bfab2b",
   "metadata": {},
   "outputs": [],
   "source": [
    "top_match_df['offset_R500'] = top_match_df.apply(lambda row: (row.propD_sep/1000)/(row.R500c), axis = 1)"
   ]
  },
  {
   "cell_type": "code",
   "execution_count": 74,
   "id": "98296370-109d-4f09-9200-c286c0994e61",
   "metadata": {},
   "outputs": [
    {
     "data": {
      "text/plain": [
       "0    0.049063\n",
       "1    0.092840\n",
       "2    0.143098\n",
       "3    0.073878\n",
       "8    0.066092\n",
       "Name: offset_R500, dtype: float64"
      ]
     },
     "execution_count": 74,
     "metadata": {},
     "output_type": "execute_result"
    }
   ],
   "source": [
    "top_match_df['offset_R500'].head(5)"
   ]
  },
  {
   "cell_type": "markdown",
   "id": "7a8dc07f-40ef-4699-8558-d068c89cec44",
   "metadata": {},
   "source": [
    "## Building the offset model"
   ]
  },
  {
   "cell_type": "code",
   "execution_count": 60,
   "id": "ded08cbf-c976-4e6d-ada5-793b2ebc76da",
   "metadata": {},
   "outputs": [],
   "source": [
    "#Now let's try to write down the likelihood function\n",
    "\n",
    "def lnlike_fr500(params, offset, theta_core, theta500, xi, beam):\n",
    "    pho_0, pho_1, sigma_0,sigma_1,sigma_2, kspt = params\n",
    "   # print(sigma_1);\n",
    "    #first spt positional uncertainty\n",
    "    delta_spt = (1.0/xi)*np.sqrt(beam**2.0 + (kspt*theta_core)**2)\n",
    "    delta_spt = delta_spt/theta500   #now in terms of fraction of r500   #OK.    \n",
    "   # print(offset)\n",
    "    \n",
    "    #next all the pieces of the model\n",
    "    x = offset\n",
    "    sigma_0p = np.sqrt(sigma_0**2 + delta_spt**2)\n",
    "    sigma_1p = np.sqrt(sigma_1**2 + delta_spt**2)\n",
    "    sigma_2p = np.sqrt(sigma_2**2 + delta_spt**2)\n",
    "\n",
    "    term1 = (pho_0/(sigma_0p**2))*np.exp(-(x**2)/(2*(sigma_0p**2)))  #matches\n",
    "    term2 = (pho_1/(sigma_1p**2))*np.exp(-(x**2)/(2*(sigma_1p**2)))  #matches\n",
    "    term3 = ((1-pho_0-pho_1)/sigma_2p**2)*np.exp(-(x**2)/(2*sigma_2p**2))   #matches\n",
    "    px = x*(term1 + term2 +term3)\n",
    "    return np.sum(np.log(px))"
   ]
  },
  {
   "cell_type": "code",
   "execution_count": 61,
   "id": "54c22fa9-bda3-40b6-b659-5d2d697c1985",
   "metadata": {},
   "outputs": [],
   "source": [
    "#set priors on paramters  \n",
    "def lnprior_fr500(params):\n",
    "    pho_0, pho_1, sigma_0,sigma_1,sigma_2, kspt = params\n",
    "    if \\\n",
    "    pho_0 > 0.00 and \\\n",
    "    pho_1 > 0.00 and \\\n",
    "    pho_0+pho_1 < 1 and \\\n",
    "    0 < sigma_0 < 0.3 and \\\n",
    "    sigma_0 < sigma_1 < 2 and \\\n",
    "    sigma_1 < sigma_2 < 3 and \\\n",
    "    0.5< kspt < 2:\n",
    "        return 0.0\n",
    "    return -np.inf"
   ]
  },
  {
   "cell_type": "code",
   "execution_count": 62,
   "id": "20110778-b3e6-407d-bd2b-df8648d8677d",
   "metadata": {},
   "outputs": [],
   "source": [
    "def lnprob_fr500(params, offset, theta_core, theta500, xi, beam):\n",
    "    lp = lnprior_fr500(params)\n",
    "    if not np.isfinite(lp):\n",
    "        return -np.inf\n",
    "    return lp + lnlike_fr500(params,offset, theta_core,theta500,xi, beam)"
   ]
  },
  {
   "cell_type": "markdown",
   "id": "25d6b9b3-9c5e-463e-b916-7bae17a601d4",
   "metadata": {},
   "source": [
    "## Begin sampling"
   ]
  },
  {
   "cell_type": "code",
   "execution_count": 86,
   "id": "6756c67a-e17c-4ff0-968a-9d01eef6f7b2",
   "metadata": {},
   "outputs": [],
   "source": [
    "#let's start the chain the amoeba minimization values\n",
    "result = [0.6, 0.3, 0.04, 0.1, 0.11, 1.2]\n",
    "ndim,nwalkers = 6, 100  #debugging\n",
    "pos = [result + 1e-3*np.random.randn(ndim) for i in range(nwalkers)]"
   ]
  },
  {
   "cell_type": "code",
   "execution_count": 87,
   "id": "1371c5ef-d40c-4e92-9ea5-2a239c87c05f",
   "metadata": {},
   "outputs": [],
   "source": [
    "#now try to ru n emcee\n",
    "sampler = emcee.EnsembleSampler(nwalkers, ndim, lnprob_fr500, args=(top_match_df['offset_R500'], top_match_df['theta_core'], \\\n",
    "                                                                    top_match_df['theta_500'], top_match_df['xi'], beam))"
   ]
  },
  {
   "cell_type": "code",
   "execution_count": 88,
   "id": "2ee10759-4294-4178-ba9c-97245e630291",
   "metadata": {
    "collapsed": true,
    "jupyter": {
     "outputs_hidden": true
    },
    "tags": []
   },
   "outputs": [
    {
     "name": "stderr",
     "output_type": "stream",
     "text": [
      "100%|██████████| 3000/3000 [16:03<00:00,  3.11it/s]\n"
     ]
    },
    {
     "data": {
      "text/plain": [
       "State([[8.44472881e-01 3.78315406e-02 1.35347822e-02 1.48201260e-01\n",
       "  4.24318972e-01 1.79331805e+00]\n",
       " [8.17227046e-01 1.06020435e-01 4.49154211e-02 5.05048158e-01\n",
       "  5.98580994e-01 1.77571845e+00]\n",
       " [8.91352641e-01 9.27838274e-02 2.92177980e-02 7.38573227e-01\n",
       "  2.60350972e+00 1.43627537e+00]\n",
       " [7.88971016e-01 5.67533987e-02 8.34758397e-03 1.05124591e-01\n",
       "  4.80434336e-01 1.46269469e+00]\n",
       " [7.77546989e-01 1.87140517e-01 2.35224645e-03 4.04385240e-01\n",
       "  9.79383123e-01 1.39303993e+00]\n",
       " [8.16984322e-01 1.79136156e-01 3.52983276e-03 4.67980119e-01\n",
       "  1.78849547e+00 1.84487306e+00]\n",
       " [7.99279738e-01 1.89364784e-01 3.92716696e-03 4.48704575e-01\n",
       "  5.55356374e-01 1.41578465e+00]\n",
       " [8.35291281e-01 5.65876282e-02 9.10835103e-03 3.04946415e-01\n",
       "  4.69080294e-01 1.25788413e+00]\n",
       " [6.85175580e-01 7.94695758e-02 6.72045353e-03 1.60178955e-01\n",
       "  5.58769704e-01 5.08211713e-01]\n",
       " [8.33039964e-01 1.60397566e-01 5.49583836e-02 3.31723309e-01\n",
       "  7.31375594e-01 8.49834109e-01]\n",
       " [7.81356071e-01 8.16786068e-02 9.70739795e-03 2.53580607e-01\n",
       "  3.36622918e-01 1.16390851e+00]\n",
       " [7.06047078e-01 3.30448020e-02 1.24900243e-02 1.71435273e-01\n",
       "  3.79420427e-01 1.88639612e+00]\n",
       " [1.28320507e-01 6.35226850e-01 1.78475349e-02 2.07677969e-02\n",
       "  4.14975852e-01 5.88460050e-01]\n",
       " [8.76839119e-01 9.71221544e-02 8.04100706e-03 3.31801836e-01\n",
       "  2.71829131e+00 1.44074225e+00]\n",
       " [1.28337222e-03 8.89364240e-01 2.29626682e-03 2.14346167e-02\n",
       "  3.04494756e-01 1.44000900e+00]\n",
       " [7.37980148e-01 2.90563297e-02 1.99498046e-02 3.39157425e-01\n",
       "  3.85477833e-01 5.28298078e-01]\n",
       " [7.43781029e-01 2.21196881e-01 3.15385704e-02 1.29038327e-01\n",
       "  1.01993165e+00 1.10177032e+00]\n",
       " [8.63829728e-01 1.07788341e-01 1.15375193e-02 6.30281376e-01\n",
       "  1.12292174e+00 1.34690732e+00]\n",
       " [7.95272395e-01 1.46513197e-01 1.62749801e-02 2.97659415e-01\n",
       "  6.24153160e-01 1.21471238e+00]\n",
       " [7.92098274e-01 1.55327678e-01 1.82709229e-02 3.44528631e-01\n",
       "  9.49749369e-01 1.45102892e+00]\n",
       " [6.49914083e-01 3.36622096e-01 3.53588461e-03 2.82857067e-01\n",
       "  2.06412334e+00 1.54067687e+00]\n",
       " [8.48719682e-01 2.83463118e-02 8.37294481e-04 3.73209143e-03\n",
       "  4.19607447e-01 1.45910189e+00]\n",
       " [5.26345101e-01 2.95656694e-01 3.89321607e-02 4.77166105e-02\n",
       "  4.28193617e-01 1.06989273e+00]\n",
       " [8.25353673e-01 1.78700599e-02 4.60995429e-03 1.89221893e-01\n",
       "  4.39951742e-01 1.48629753e+00]\n",
       " [7.17308059e-01 1.30124424e-01 1.89080302e-02 1.96968936e-01\n",
       "  5.47669309e-01 9.10368133e-01]\n",
       " [6.38953837e-01 5.56444875e-02 1.09333797e-03 2.27445333e-02\n",
       "  3.62609945e-01 1.89795962e+00]\n",
       " [7.43827099e-01 9.87168259e-02 1.86776699e-02 3.19304266e-01\n",
       "  5.01085758e-01 1.22684754e+00]\n",
       " [8.24106946e-01 1.71605090e-01 3.16293679e-02 5.29872427e-01\n",
       "  2.74730598e+00 1.13271263e+00]\n",
       " [7.59885294e-01 1.75718285e-01 1.84647710e-02 4.91868606e-01\n",
       "  5.05802743e-01 5.27784356e-01]\n",
       " [8.73769395e-01 9.05759599e-02 4.66736794e-02 3.16071882e-01\n",
       "  2.98531404e+00 1.54928612e+00]\n",
       " [8.09731582e-01 4.44343283e-02 9.80434149e-04 5.09495734e-01\n",
       "  8.28929398e-01 1.78472274e+00]\n",
       " [6.57126761e-01 1.59787329e-01 2.57270858e-02 2.00849070e-01\n",
       "  4.17933355e-01 7.37285031e-01]\n",
       " [7.76018865e-01 1.55712567e-01 1.66434360e-02 1.38497157e-01\n",
       "  4.59435227e-01 1.72433118e+00]\n",
       " [8.38015345e-01 1.36774331e-01 2.12608278e-02 5.87550659e-01\n",
       "  2.79888404e+00 1.53184961e+00]\n",
       " [8.59864445e-01 1.37492715e-01 2.32865075e-02 4.62786596e-01\n",
       "  6.98186987e-01 9.36087686e-01]\n",
       " [7.40914895e-01 2.06963355e-01 7.89940786e-03 4.36422197e-01\n",
       "  1.11578603e+00 1.42013806e+00]\n",
       " [8.57423187e-01 1.23917456e-01 1.41775450e-02 5.11496378e-01\n",
       "  2.05767640e+00 9.27737285e-01]\n",
       " [7.32738132e-01 2.40641751e-01 1.28477173e-02 3.27254124e-01\n",
       "  8.42251151e-01 8.39654165e-01]\n",
       " [8.50462373e-01 1.35830348e-01 1.19185779e-02 5.68572639e-01\n",
       "  1.08090667e+00 1.92011754e+00]\n",
       " [8.18253171e-01 1.27848468e-01 6.48702842e-03 3.46387054e-01\n",
       "  8.31885871e-01 1.18886802e+00]\n",
       " [8.43469137e-01 1.50567318e-01 5.70074135e-03 6.40810137e-01\n",
       "  2.32900164e+00 1.69269148e+00]\n",
       " [8.64434348e-01 3.04301383e-02 5.89451533e-03 2.46926270e-01\n",
       "  4.58602106e-01 1.57288879e+00]\n",
       " [7.10217799e-01 2.28352375e-01 1.50157450e-02 1.91232982e-01\n",
       "  7.25042680e-01 1.92956866e+00]\n",
       " [8.53438023e-01 1.43176977e-01 2.42743652e-02 3.83948134e-01\n",
       "  9.19638308e-01 1.58331849e+00]\n",
       " [7.85605324e-01 1.54480077e-01 2.56655963e-02 4.76133903e-01\n",
       "  6.29437355e-01 1.78594109e+00]\n",
       " [6.23027320e-01 3.34018028e-01 1.00794433e-02 4.04559182e-01\n",
       "  6.38536480e-01 1.82688799e+00]\n",
       " [6.56797012e-01 3.37130722e-01 1.42963209e-03 4.08772359e-01\n",
       "  9.74437819e-01 1.83180062e+00]\n",
       " [8.19962387e-01 8.96496826e-03 8.74311313e-05 7.03695083e-02\n",
       "  3.77616946e-01 1.17441986e+00]\n",
       " [7.36842560e-01 2.62038283e-01 3.99451880e-03 4.61869777e-01\n",
       "  1.73086113e+00 7.24415694e-01]\n",
       " [7.20209659e-01 1.08336585e-01 1.37771795e-02 1.51805977e-01\n",
       "  4.94311489e-01 1.62708987e+00]\n",
       " [8.34242758e-01 1.51951476e-01 1.52679996e-02 5.35326675e-01\n",
       "  6.09564974e-01 1.80623754e+00]\n",
       " [7.19469270e-01 1.64010111e-01 3.26286740e-02 1.77110784e-01\n",
       "  5.15268885e-01 1.75468783e+00]\n",
       " [7.76927290e-01 1.56635179e-01 8.64814485e-03 4.01822032e-01\n",
       "  5.87905166e-01 1.65416340e+00]\n",
       " [7.97309477e-01 1.93325231e-01 1.33381534e-02 2.87221268e-01\n",
       "  2.66740222e+00 1.29330111e+00]\n",
       " [8.04974931e-01 1.36262115e-01 1.19338442e-02 3.28274403e-01\n",
       "  4.48789036e-01 1.50528797e+00]\n",
       " [6.83260798e-01 2.76538620e-01 3.75085828e-03 4.09722936e-01\n",
       "  1.27514733e+00 1.42836451e+00]\n",
       " [8.22821665e-01 1.62163616e-01 2.52943812e-02 3.16757039e-01\n",
       "  3.91354768e-01 1.37740610e+00]\n",
       " [8.48213123e-01 7.72886360e-02 8.59589968e-03 5.22707845e-01\n",
       "  6.26574389e-01 1.38803079e+00]\n",
       " [8.58272269e-01 1.10065214e-01 1.62710976e-02 3.83461390e-01\n",
       "  4.14714477e-01 9.95354185e-01]\n",
       " [7.13629953e-01 1.23832735e-02 8.61956061e-04 1.73986418e-01\n",
       "  6.03180442e-01 1.45322198e+00]\n",
       " [8.15021590e-01 1.17330680e-01 6.26035908e-03 4.03955263e-01\n",
       "  5.12421268e-01 1.87538319e+00]\n",
       " [7.95827976e-01 1.06214353e-01 2.05351547e-02 1.15029083e-01\n",
       "  4.51126734e-01 1.54750440e+00]\n",
       " [6.90582002e-01 5.14878810e-02 9.81661075e-03 3.13136242e-01\n",
       "  3.56453643e-01 1.08122718e+00]\n",
       " [7.87439417e-01 1.52148015e-01 1.36615993e-02 3.00687578e-01\n",
       "  8.24256774e-01 1.10030431e+00]\n",
       " [7.76679109e-01 1.99745931e-01 3.14763278e-03 4.43096184e-01\n",
       "  5.45325098e-01 1.21588414e+00]\n",
       " [6.44547417e-01 1.30277370e-01 1.37581576e-03 5.29785120e-02\n",
       "  4.23319647e-01 1.86320725e+00]\n",
       " [8.86097261e-01 1.11360665e-01 3.06996848e-02 5.17610558e-01\n",
       "  5.86443842e-01 9.45083371e-01]\n",
       " [7.33046393e-01 1.51415055e-01 3.26571969e-03 2.60624131e-01\n",
       "  5.86074417e-01 1.71580777e+00]\n",
       " [7.76782199e-01 1.31246608e-01 2.68553727e-02 5.07909802e-02\n",
       "  3.87200896e-01 1.54577901e+00]\n",
       " [8.23608639e-01 1.70652399e-01 3.51307585e-03 3.05829476e-01\n",
       "  2.82228777e+00 9.84384894e-01]\n",
       " [6.56484055e-01 1.19697932e-01 5.77249969e-03 1.00812150e-01\n",
       "  5.04738483e-01 1.85628330e+00]\n",
       " [7.85289607e-01 1.79926846e-01 2.94832091e-02 1.30682518e-01\n",
       "  4.52680870e-01 1.08947181e+00]\n",
       " [6.61424141e-01 2.64467800e-01 1.76030971e-02 4.61948692e-01\n",
       "  6.85826625e-01 1.10615830e+00]\n",
       " [8.24191099e-01 1.72310610e-01 9.90774433e-03 3.56393990e-01\n",
       "  2.66856603e+00 1.93597801e+00]\n",
       " [8.75784607e-01 1.18111055e-01 2.63185113e-02 5.72246427e-01\n",
       "  2.59882576e+00 1.69939964e+00]\n",
       " [8.49311996e-01 3.53371008e-03 7.30545919e-03 1.72608215e-01\n",
       "  3.23624996e-01 1.28670213e+00]\n",
       " [8.99350966e-01 9.61154983e-02 1.60907796e-02 5.97305679e-01\n",
       "  6.30197083e-01 1.76435894e+00]\n",
       " [7.09550142e-01 2.50322777e-01 1.23272339e-02 3.86019620e-01\n",
       "  2.97853150e+00 1.37769748e+00]\n",
       " [8.45828460e-01 1.50973926e-01 2.92040650e-02 4.09860881e-01\n",
       "  1.00574056e+00 1.68450430e+00]\n",
       " [7.22250638e-01 1.94102792e-01 2.59644032e-02 2.26994041e-01\n",
       "  8.34400312e-01 1.32413375e+00]\n",
       " [7.62927164e-01 2.35707038e-01 7.78944150e-03 4.74225206e-01\n",
       "  1.70661381e+00 1.89356077e+00]\n",
       " [5.84079490e-01 1.15024297e-01 1.99269616e-02 2.23758510e-01\n",
       "  2.68673651e-01 1.41410895e+00]\n",
       " [7.62529945e-01 3.41201590e-02 1.48398953e-03 1.35353586e-01\n",
       "  3.89643376e-01 1.05785827e+00]\n",
       " [6.67499086e-01 2.75379656e-01 4.61936306e-03 2.92920499e-01\n",
       "  4.62928431e-01 1.61841108e+00]\n",
       " [5.74143007e-01 3.57205590e-01 1.95511346e-04 6.98075739e-02\n",
       "  5.87912697e-01 1.43751485e+00]\n",
       " [7.95728186e-01 1.29120271e-01 3.38841754e-03 3.78257551e-01\n",
       "  5.88584383e-01 1.47616619e+00]\n",
       " [2.94212234e-01 5.71607202e-01 3.12601306e-03 1.09712560e-02\n",
       "  4.80247396e-01 1.53050062e+00]\n",
       " [7.15097396e-01 2.57804896e-01 7.27057781e-03 4.04491299e-01\n",
       "  2.00626047e+00 1.37486287e+00]\n",
       " [7.85281906e-01 2.09709516e-01 2.19098725e-02 3.65165104e-01\n",
       "  1.73705004e+00 1.49386155e+00]\n",
       " [8.33073775e-01 1.62027661e-01 6.20059298e-03 5.00596822e-01\n",
       "  2.05106733e+00 1.54923843e+00]\n",
       " [7.82844765e-01 1.59543080e-02 1.17219987e-02 3.29504209e-01\n",
       "  4.89588304e-01 1.31716004e+00]\n",
       " [5.63641134e-01 3.99570160e-01 2.17571994e-02 2.70196265e-01\n",
       "  1.35798839e+00 1.34708330e+00]\n",
       " [7.77582561e-01 2.09891039e-01 3.50803896e-02 3.50517831e-01\n",
       "  1.12758644e+00 1.61492510e+00]\n",
       " [8.36513744e-01 7.84561427e-03 1.51483914e-02 2.27752751e-01\n",
       "  3.35658278e-01 1.58420541e+00]\n",
       " [5.96257421e-01 2.70593138e-01 1.53625385e-02 3.14267675e-01\n",
       "  5.59126284e-01 1.02169185e+00]\n",
       " [6.41618746e-01 1.54238320e-01 1.01738591e-03 1.03733706e-01\n",
       "  3.90812138e-01 1.60547716e+00]\n",
       " [7.98690706e-01 1.19407304e-01 1.68931818e-02 3.51806733e-01\n",
       "  3.94064841e-01 1.17998486e+00]\n",
       " [7.09057002e-01 1.98395935e-01 1.06321332e-02 2.42129933e-01\n",
       "  6.12187587e-01 1.95321917e+00]\n",
       " [6.88273133e-01 1.83577995e-01 1.18291956e-02 6.95355419e-02\n",
       "  6.39472699e-01 1.63111450e+00]\n",
       " [7.86879336e-01 5.97839249e-02 4.55609969e-03 5.24827759e-01\n",
       "  5.48498354e-01 1.53831300e+00]], log_prob=[49.30767647 44.33402221 43.71308818 49.74913772 48.96130467 49.24773238\n",
       " 49.73939215 49.54052046 43.96616713 43.42326066 48.45854313 47.84751017\n",
       " 46.86492054 46.74883789 46.62516002 46.70460379 41.49245837 46.57958144\n",
       " 48.8100552  48.16254017 46.15373222 49.67573135 46.58224835 50.1181286\n",
       " 47.70520958 47.61302297 48.48542466 46.88681488 45.3826543  41.47297801\n",
       " 46.02805475 46.84656192 47.82879293 46.40783239 47.58037444 47.57509743\n",
       " 46.09841498 47.21265775 47.61695021 48.42235507 47.55997362 49.79237106\n",
       " 46.37353513 48.68274346 47.1122017  44.91122806 46.48546027 49.36099422\n",
       " 45.9775103  48.90104046 48.37745454 46.44895102 49.20605861 47.27507063\n",
       " 49.68326946 46.93825449 48.08713263 48.52773839 48.23199767 46.34436941\n",
       " 49.37131807 48.58541754 47.99079627 47.88007698 49.12986028 48.42733006\n",
       " 46.22895275 48.68032044 46.87945523 46.87315735 47.62356003 44.08397699\n",
       " 45.26284041 48.84947692 46.79746737 48.60558806 47.37078446 46.89856799\n",
       " 48.06504575 46.44149842 48.26976887 43.63124786 49.02882019 47.68138371\n",
       " 45.94163702 49.61517571 49.54013465 47.75447436 48.7677879  49.31884292\n",
       " 49.03664537 42.93954962 46.68304344 48.99543707 45.20947032 48.80890901\n",
       " 49.18925937 47.25870448 47.12580588 48.64410244], blobs=None, random_state=('MT19937', array([1601169578,  438890331,  438307676, 2103361320,   14783340,\n",
       "       1655691325, 1735899169, 2563825724, 3135394953, 1910295899,\n",
       "       4270874410, 2003428654, 1037551790, 3893890223, 1711805837,\n",
       "       1360991708, 3810985578, 2873300505, 3476448220, 1374102481,\n",
       "        618849134, 3694704793,  271135297, 1688892778,  272030420,\n",
       "       3343729499, 1547029458, 2619540495, 1897850346, 2432196712,\n",
       "       1374845921, 2433601138, 1971437706, 1283626557, 3475552409,\n",
       "       3472894063, 2231482491,  758224100, 1349721287,  153349242,\n",
       "       3992519539,  760518201, 3483235221,   29985011, 1170958208,\n",
       "       3887185087, 3718706020,  318545774,   66258097, 2276406110,\n",
       "       1484539795, 2441480443, 3960508515, 4098867092,  705197125,\n",
       "       1255434215, 1784569894,  855571468, 1003063472, 4164273443,\n",
       "        318324113, 1846755978, 3835720598, 1510217464,  870811034,\n",
       "       3275231608,  729267491, 1500352766, 1794509925, 2814665282,\n",
       "       2169956838, 1378419786, 4256801279, 2130554334, 3106592759,\n",
       "       2599663725, 1556654888, 4157080139, 3179101034, 1636228771,\n",
       "       3613024080, 2804208258, 3823520313, 2865242923,  166547330,\n",
       "       3373856246, 2079239871, 3236173992,  894118619,  320654872,\n",
       "        673186501,  179693852, 1512932684, 1577091104, 1120814631,\n",
       "        136856527, 2564459652, 4026069289, 3347695107, 2272540931,\n",
       "       2315591374,  953781808, 3615493857, 2519489434, 3524151033,\n",
       "       1301038607,  138491773, 3982550909, 1089433895, 2574857576,\n",
       "       4156193673,  960749729,  151161115, 1866711763,  203271837,\n",
       "       3777043242, 2906552084, 4230141522, 4074129909, 2347625589,\n",
       "       2796463413, 2328188088,   27872589, 1207921305,  350750298,\n",
       "       2268851106, 3191739203,   97260136, 1669326532, 1086522809,\n",
       "       1194886929, 1997279270, 1757087758, 2408426617,  295770915,\n",
       "       4022794103,  891046216, 2480306355,  680503173,  995226301,\n",
       "       2987934797, 3325330702, 2223521118, 1826169597,  865406914,\n",
       "       1365453046,  351945032,   38654408,  771568552, 4233651350,\n",
       "       2408947240, 2352690938,  428751882, 4231668017, 1356136914,\n",
       "       1603063208, 2772145813,  376015739,  298724198,  508110901,\n",
       "       2099802881, 3241096460, 3010774725,  573162749, 3278277110,\n",
       "       3170278545, 3276804903, 2585589303,  655698884, 2192996743,\n",
       "       1430860547,  240883310, 1677646888, 4026370710, 3542528978,\n",
       "        762475531, 3104437434,  390122041, 1893456201, 2205502472,\n",
       "       3317227956, 3963414739, 2347038442, 2942435188, 2850256063,\n",
       "       3338531604, 3003502032,  965684856, 1837233571, 1001049901,\n",
       "       2954494119, 3634550869, 1927426010, 1742810196,  703598080,\n",
       "       3127587563, 3143280253,  449425069, 1866617679,  559670350,\n",
       "       1754301573, 1842755312, 3479297014, 2796522980, 1346214553,\n",
       "        581377807, 2645647354, 3762986460,  254494197, 2988032736,\n",
       "       2527460930, 4107165291, 3876781480,  530164128, 1015896393,\n",
       "       3832272080, 2959149427, 2116946635, 1825602094,  147935220,\n",
       "       3498570618, 1146038650, 2049938563,  485777178,  803623165,\n",
       "       1946152527, 2019105785,   15062227, 2104473744, 2462243715,\n",
       "         37481063, 2337367280,  229860370, 1468789209, 1071986188,\n",
       "       2351680415, 3322337739,  486177206, 1171293371, 2795279286,\n",
       "       3404968984,  415470100, 2098903622, 1166196437, 1503970901,\n",
       "       3844959983,  781761045, 2573776277, 2368175053,  262267434,\n",
       "       3063000376, 1070526583,  804310691, 2949855879, 1226046079,\n",
       "       1100207938, 2924665775, 2164325155,  270621329,  134814211,\n",
       "       1274542307,  937916261, 2077956177, 4052269919,  402786539,\n",
       "       3755279831, 3627974691, 3942108337, 3414451687,  197258502,\n",
       "        482567163, 3841181460, 2201587118,  326431095, 3584381810,\n",
       "       1961832310, 3752607247, 4035964583,   84079315, 4282392054,\n",
       "       3303744293, 2700774091, 2667609333, 2402947552,  161994729,\n",
       "       3371324317,  616537246, 1421636896, 2207845348,  750103127,\n",
       "        328641427, 2624671485, 2110142498, 2404496194, 2793096623,\n",
       "       4158644912, 3350483212, 3049331510,  318725064, 3442358400,\n",
       "       2147718160, 2860240475, 1881366384,  620124320, 1109692645,\n",
       "       2699383738, 4104554929, 3985698403,  210743822, 2080985719,\n",
       "       3607848641, 2222565434, 4173130190, 1403016621,  201025297,\n",
       "       2337194624,  525943224, 2687946545,  364484946, 3772867866,\n",
       "        126548099, 2898970176, 4035148176, 4063211132, 1562708804,\n",
       "        982051320, 3597237979,  264661017, 2027465495,  849534569,\n",
       "       2886875479, 1771094244, 3116894665,  679394810, 2739183583,\n",
       "       3021441295, 3221705917,  133265076, 3705734299, 3203022149,\n",
       "       1073913293, 2952908974,  944256797, 1968922575, 4268560710,\n",
       "       1536683358, 2729772743, 3331628533,  349478336,  399241184,\n",
       "       2551902861, 4018026485,  433545576, 3259504711, 1772618891,\n",
       "       2064779671, 3914427320, 4119494347,  457265404,  822013475,\n",
       "       3537223809, 1446072138, 2111581516, 1978796740,  335202199,\n",
       "        295730248, 1528325986, 3469032859, 1865808251,  387723247,\n",
       "        895144104, 4247271912,  922612372, 1846127221, 3761327569,\n",
       "       3138361206,   83901134,  373436041, 2374969569, 3689257242,\n",
       "       1569223592, 1380993855, 1139210332, 3187250565, 2001932364,\n",
       "       1119902375, 4148423963,  118990397, 3883065976, 1749847141,\n",
       "       2323961516,  512534490,  176257922, 2025243833, 1949745127,\n",
       "        819212419, 2128402661, 2702497658, 3503818364, 3720487297,\n",
       "       3270319812, 1500080425, 3871575921, 3736679240, 3845884534,\n",
       "       3532049667,  777070151, 3400601709,  714426756, 1396281019,\n",
       "        175030676,  599507950, 1350421888, 1796446288,  948694960,\n",
       "       1737325741, 3832450427, 2867146560, 3904531182,  211072689,\n",
       "       3349275521, 1253605292,  936168952, 3943765290, 4198112906,\n",
       "       2540042170, 3782109337, 1536932381, 2127648562, 2568303266,\n",
       "       1372534806, 2296363251, 1892094705, 3023649569,  847434450,\n",
       "       4196565555,  363952005, 2180741357, 1977367006, 1730267708,\n",
       "         41598949, 1057321640, 3553006287, 1267406865, 3530398183,\n",
       "       4197490069,   30677524, 1909474828, 1601581006, 1252586060,\n",
       "       3046871835,  517053663,  465710015, 1989776169, 3980742298,\n",
       "       2079907606, 2908358932, 2960205178,  715333134, 1486536836,\n",
       "        937818369, 1801995229, 4232177572,  962745547, 2681294216,\n",
       "       1009527111, 3295518672, 1371557273, 2656784077, 2531717142,\n",
       "       4067885748, 2125499513, 1623764669, 1357980409, 1880731792,\n",
       "       3130674930, 2673666231, 2570999924, 2820352975, 1096923142,\n",
       "        970351017, 3639666943, 2570718112, 3471278342, 1833779532,\n",
       "       2763020366, 3819381508, 3228334439, 3034186626, 1818090662,\n",
       "        695129819, 1053840105, 1526988170, 2744031858, 1455513791,\n",
       "       1281041631, 3980567676, 1686342797, 3331357242, 3232794434,\n",
       "       3741473732, 3899245144, 2992434302,  696780503, 1068379061,\n",
       "       1000013141, 4294552083, 2381799398, 1915098940, 4028562931,\n",
       "       2618506131, 3692865747, 4007973799, 1471224716, 3228250009,\n",
       "       1537602839, 1543806615, 3277845711,  436415181,  178111117,\n",
       "       4164236970, 3658467102, 1689324510, 3359214754, 1507277231,\n",
       "        963081758, 1428881144, 4178245116,  831961138, 1660303163,\n",
       "       1551235439,  227066103, 1316976121,  575241709, 3190267707,\n",
       "        690919851, 1640399733, 1855606195, 3374159079,  200757500,\n",
       "        936311530, 3177794194, 3834569674, 4178887216,  770384673,\n",
       "       3461809581,  927149881, 2553304193, 2958319775,   72136364,\n",
       "       2773936892, 2602358264, 2086129843,  559838144, 3814380914,\n",
       "        332648307, 1216886168,  647547858,  617179228, 2773746602,\n",
       "         58337839, 3872519808, 1892817806, 3562074135, 3077257357,\n",
       "        495664126, 3955031964, 3819494409, 3364583995,  408101225,\n",
       "       3675344269, 2010869620, 2082264122, 2222881277, 4092947881,\n",
       "        711740274, 2903638229, 2337067841,   79650702, 1608912899,\n",
       "       2098364964,  503584626, 2557452012, 2451848595, 3491225668,\n",
       "       2603586158, 1069285352, 1446648347, 4290135758, 1288405413,\n",
       "       2605300259, 1837231460, 1803911395, 3495351517, 1209511685,\n",
       "       2768124062, 4106038848, 2175278617, 3969168473, 3814161897,\n",
       "       2236992286, 2500877611, 1615210868, 1123492188, 2733626518,\n",
       "       1983143768, 3355677618, 2843674008,  700589343, 1633443432,\n",
       "       1842457732, 3384768499, 3776305141, 3392683418, 1870731699,\n",
       "       2537399856, 1886240246, 1165561213, 3913712341,  766408399,\n",
       "        875704422, 3624845832,  578963642, 1365978288], dtype=uint32), 551, 0, 0.0))"
      ]
     },
     "execution_count": 88,
     "metadata": {},
     "output_type": "execute_result"
    }
   ],
   "source": [
    "sampler.run_mcmc(pos,3000, progress=True)"
   ]
  },
  {
   "cell_type": "code",
   "execution_count": 89,
   "id": "19ac7f3b-510e-4dd7-bd97-2363e64b00be",
   "metadata": {},
   "outputs": [],
   "source": [
    "samples = sampler.chain[:,500:, :].reshape((-1, ndim))"
   ]
  },
  {
   "cell_type": "code",
   "execution_count": 93,
   "id": "00098e52-547e-4990-b67f-94ccb38ddd46",
   "metadata": {},
   "outputs": [
    {
     "data": {
      "image/png": "[encoded data removed]",
      "text/plain": [
       "<Figure size 504x504 with 21 Axes>"
      ]
     },
     "metadata": {
      "needs_background": "light"
     },
     "output_type": "display_data"
    }
   ],
   "source": [
    "#param_ranges = [[0.3, 1.0],[0., 0.6], [0, 0.06], [0.05, 0.3], [0.3, 1.2], None]\n",
    "param_ranges = [[0.1, 1.0],[0., 0.8], [0, 0.2], [0.05, 0.7], [.4, 1.2], [0.4,1.8]]\n",
    "names = [r'$\\rho_0$', r'$\\rho_1$', \"$\\sigma_0$\",\"$\\sigma_1$\", \"$\\sigma_2$\",'$k_\\mathrm{spt}$']\n",
    "fig = pygtc.plotGTC(samples,figureSize='MNRAS_page',paramNames=names,paramRanges=param_ranges, plotName='sample_sptpol100d_offset.pdf', \n",
    "customLabelFont ={'family':'Arial', 'size':25}, customTickFont ={'family':'Arial', 'size':12} , colorsOrder =['blues']             )\n"
   ]
  },
  {
   "cell_type": "code",
   "execution_count": 95,
   "id": "a0143cc0-b89e-4283-a03f-9834600f4c3b",
   "metadata": {},
   "outputs": [],
   "source": [
    "params_fit = np.median(sampler.flatchain, axis=0)"
   ]
  },
  {
   "cell_type": "code",
   "execution_count": 96,
   "id": "72ad7a16-eed6-44eb-930e-9e039a744f6f",
   "metadata": {},
   "outputs": [
    {
     "data": {
      "text/plain": [
       "array([0.77080574, 0.14361193, 0.01146299, 0.30702736, 0.54037761,\n",
       "       1.44132366])"
      ]
     },
     "execution_count": 96,
     "metadata": {},
     "output_type": "execute_result"
    }
   ],
   "source": [
    "params_fit"
   ]
  },
  {
   "cell_type": "code",
   "execution_count": null,
   "id": "1f0f927f-f54c-4108-96e3-486c36c9c538",
   "metadata": {},
   "outputs": [],
   "source": []
  }
 ],
 "metadata": {
  "kernelspec": {
   "display_name": "myLSST",
   "language": "python",
   "name": "mylsst"
  },
  "language_info": {
   "codemirror_mode": {
    "name": "ipython",
    "version": 3
   },
   "file_extension": ".py",
   "mimetype": "text/x-python",
   "name": "python",
   "nbconvert_exporter": "python",
   "pygments_lexer": "ipython3",
   "version": "3.7.12"
  }
 },
 "nbformat": 4,
 "nbformat_minor": 5
}
